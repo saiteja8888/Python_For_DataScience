{
 "cells": [
  {
   "cell_type": "code",
   "execution_count": 14,
   "metadata": {},
   "outputs": [
    {
     "name": "stdout",
     "output_type": "stream",
     "text": [
      "you can go now \n"
     ]
    }
   ],
   "source": [
    "light = input(\"enter the light situation\")\n",
    "\n",
    "if light.lower() == \"Green\".lower() :\n",
    "    print(\"you can go now \")\n",
    "elif light == \"red\":\n",
    "    print(\"you have to stop\")\n",
    "else : \n",
    "    print(\"you can start now \")"
   ]
  },
  {
   "cell_type": "code",
   "execution_count": 3,
   "metadata": {},
   "outputs": [
    {
     "data": {
      "text/plain": [
       "True"
      ]
     },
     "execution_count": 3,
     "metadata": {},
     "output_type": "execute_result"
    }
   ],
   "source": [
    "light == \"Green\""
   ]
  },
  {
   "cell_type": "code",
   "execution_count": 10,
   "metadata": {},
   "outputs": [
    {
     "data": {
      "text/plain": [
       "3453"
      ]
     },
     "execution_count": 10,
     "metadata": {},
     "output_type": "execute_result"
    }
   ],
   "source": [
    "int(input())"
   ]
  },
  {
   "cell_type": "code",
   "execution_count": 20,
   "metadata": {},
   "outputs": [
    {
     "name": "stdout",
     "output_type": "stream",
     "text": [
      "userid -  ssfsaasaf password -  euron\n",
      "please check your user id \n"
     ]
    }
   ],
   "source": [
    "userid = input(\"enter your user name \")\n",
    "password = input(\"enter the password\")\n",
    "print(\"userid - \"  ,userid ,\"password - \", password)\n",
    "if userid == \"sudhanshu\" and password == \"euron\":\n",
    "    print(\"its a valid user id you are allowed to login\")\n",
    "elif userid != \"sudhanshu\" and password != \"euron\":\n",
    "    print(\"both are incorrect\")\n",
    "elif userid !=\"sudhanshu\":\n",
    "    print(\"please check your user id \")\n",
    "else :\n",
    "    print(\"you have incorrect password\")\n"
   ]
  },
  {
   "cell_type": "code",
   "execution_count": 24,
   "metadata": {},
   "outputs": [
    {
     "name": "stdout",
     "output_type": "stream",
     "text": [
      "464645666 entered number is even number\n"
     ]
    }
   ],
   "source": [
    "number = int(input(\"enter your number\"))\n",
    "\n",
    "if number % 2 == 0 :\n",
    "    print(number , \"entered number is even number\")\n",
    "else:\n",
    "    print(number ,\"number is odd number\")"
   ]
  },
  {
   "cell_type": "code",
   "execution_count": 21,
   "metadata": {},
   "outputs": [
    {
     "data": {
      "text/plain": [
       "1"
      ]
     },
     "execution_count": 21,
     "metadata": {},
     "output_type": "execute_result"
    }
   ],
   "source": [
    "4%3"
   ]
  },
  {
   "cell_type": "code",
   "execution_count": 25,
   "metadata": {},
   "outputs": [
    {
     "name": "stdout",
     "output_type": "stream",
     "text": [
      "you will become gen ai engineer\n"
     ]
    }
   ],
   "source": [
    "basic_course = input(\"enter the course name\")\n",
    "advance_course = input(\"enter the course name\")\n",
    "\n",
    "if basic_course == \"python\":\n",
    "    if advance_course == \"data science\":\n",
    "        print(\"you will become data scientist\")\n",
    "    elif advance_course == \"big data\":\n",
    "        print(\"you will become data engineer\")\n",
    "    elif advance_course == \"data analytics\":\n",
    "        print(\"you will become business analyst\")\n",
    "    elif advance_course == \"gen ai\":\n",
    "        print(\"you will become gen ai engineer\")\n",
    "else : \n",
    "    if basic_course == \"javascript\":\n",
    "        print(\"you will become frontend or backend enginner\")\n",
    "\n"
   ]
  },
  {
   "cell_type": "code",
   "execution_count": null,
   "metadata": {},
   "outputs": [],
   "source": [
    "Basic Problems\n",
    "Write a program to check if a number is positive, negative, or zero.\n",
    "Write a program to determine if a given year is a leap year.\n",
    "Create a program that checks if a number is even or odd.\n",
    "Write a program to determine if a given character is a vowel or a consonant.\n",
    "Write a program to check if a person is eligible to vote based on their age.\n",
    "Write a program to find the largest of three numbers entered by the user.\n",
    "Write a program to check if a given number is divisible by 5 and 11.\n",
    "Write a program to categorize a person’s BMI into underweight, normal weight, overweight, or obese.\n",
    "Write a program to determine the type of triangle based on the lengths of its sides (equilateral, isosceles, or scalene).\n",
    "Write a program to determine if a character entered by the user is uppercase, lowercase, or a digit.\n",
    "\n",
    "\n",
    "\n",
    "Intermediate Problems\n",
    "Write a program to calculate the grade of a student based on their marks using multiple elif conditions.\n",
    "Write a program to simulate a traffic light system (red, yellow, green).\n",
    "Write a program to calculate the electricity bill based on slab rates for different units.\n",
    "Create a program to determine if a given string starts with a vowel or not.\n",
    "Write a program to calculate the income tax for a user based on their income slab.\n",
    "Write a program that checks if a given number is prime or not using conditional statements.\n",
    "Write a program to determine if a number is a palindrome or not.\n",
    "Write a program to display the menu of a coffee shop and take the user’s order based on input.\n",
    "Write a program to check whether a person is eligible for a senior citizen discount based on their age.\n",
    "Write a program to categorize a person’s weight based on the following conditions:\n",
    "Underweight: BMI < 18.5\n",
    "Normal weight: 18.5 ≤ BMI < 24.9\n",
    "Overweight: 25 ≤ BMI < 29.9\n",
    "Obese: BMI ≥ 30\n",
    "\n",
    "\n",
    "\n",
    "\n",
    "Advanced Problems\n",
    "Write a program to determine if a number is a strong number (sum of factorials of its digits equals the number itself).\n",
    "Write a program to simulate a basic ATM system, allowing the user to check balance, deposit, or withdraw money.\n",
    "Write a program to categorize the season based on the input month (e.g., winter, summer, monsoon).\n",
    "Write a program to calculate a discount based on the purchase amount:\n",
    "Above ₹5000: 20% discount\n",
    "₹3000-₹5000: 15% discount\n",
    "₹1000-₹3000: 10% discount\n",
    "Below ₹1000: 5% discount\n",
    "Write a program to classify a number as positive, negative, or zero, and further as even or odd if it is non-zero.\n",
    "Write a program to validate a password:\n",
    "Minimum 8 characters\n",
    "Contains at least one uppercase letter, one lowercase letter, one digit, and one special character.\n",
    "Write a program to determine the day of the week based on an input number (1 for Monday, 7 for Sunday).\n",
    "Write a program to implement a grading system for employees based on their performance rating.\n",
    "Write a program to check whether a given number is part of the Fibonacci sequence or not.\n",
    "Write a program to determine the zodiac sign of a person based on their birthdate.\n",
    "\n",
    "sudhanshu@euron.one"
   ]
  }
 ],
 "metadata": {
  "kernelspec": {
   "display_name": "Python 3",
   "language": "python",
   "name": "python3"
  },
  "language_info": {
   "codemirror_mode": {
    "name": "ipython",
    "version": 3
   },
   "file_extension": ".py",
   "mimetype": "text/x-python",
   "name": "python",
   "nbconvert_exporter": "python",
   "pygments_lexer": "ipython3",
   "version": "3.12.1"
  }
 },
 "nbformat": 4,
 "nbformat_minor": 2
}
