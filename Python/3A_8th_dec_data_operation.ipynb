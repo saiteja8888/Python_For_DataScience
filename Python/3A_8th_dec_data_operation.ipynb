{
 "cells": [
  {
   "cell_type": "code",
   "execution_count": null,
   "metadata": {},
   "outputs": [],
   "source": [
    "Strings\n",
    "Write a Python program to check if a given string starts with a specific substring using an inbuilt method.\n",
    "Find the index of the first occurrence of the substring \"Python\" in the string \"I am learning Python programming\".\n",
    "Convert the string \"hello world\" to uppercase using an inbuilt method.\n",
    "Replace all occurrences of \"cat\" with \"dog\" in the string \"The cat sat on the cat mat\".\n",
    "Write a Python program to count the number of times the letter 'a' appears in the string \"banana\".\n",
    "Extract the substring \"World\" from the string \"Hello, World!\" using slicing.\n",
    "Reverse the string \"Python\" using slicing.\n",
    "Write a program to remove leading and trailing whitespaces from the string \" Hello World \".\n",
    "Check if the string \"abc123\" is alphanumeric using an inbuilt method.\n",
    "Split the string \"apple,banana,cherry\" into a list of words using an inbuilt method.\n",
    "\n",
    "\n",
    "Lists\n",
    "Write a Python program to append the number 5 to the list [1, 2, 3, 4] using an inbuilt method.\n",
    "Remove the element \"banana\" from the list [\"apple\", \"banana\", \"cherry\"].\n",
    "Insert the element \"orange\" at index 1 in the list [\"apple\", \"cherry\"].\n",
    "Find the index of the number 3 in the list [1, 2, 3, 4, 5].\n",
    "Reverse the list [1, 2, 3, 4] using an inbuilt method.\n",
    "Write a Python program to slice and print the first three elements of the list [10, 20, 30, 40, 50].\n",
    "Sort the list [5, 2, 9, 1, 5] in ascending order using an inbuilt method.\n",
    "Write a program to count the number of times the number 5 appears in the list [5, 1, 5, 2, 5, 3].\n",
    "Concatenate the lists [1, 2] and [3, 4] and print the resulting list.\n",
    "Check if the element \"kiwi\" exists in the list [\"apple\", \"banana\", \"cherry\"] using an inbuilt method.\n",
    "\n",
    "\n",
    "Dictionaries\n",
    "Write a Python program to add a new key-value pair \"age\": 25 to the dictionary {\"name\": \"John\"}.\n",
    "Retrieve the value associated with the key \"name\" from the dictionary {\"name\": \"Alice\", \"age\": 30}.\n",
    "Remove the key \"age\" from the dictionary {\"name\": \"Bob\", \"age\": 45} using an inbuilt method.\n",
    "Write a program to list all the keys in the dictionary {\"name\": \"Emma\", \"age\": 28, \"city\": \"New York\"}.\n",
    "Use an inbuilt method to check if the key \"city\" exists in the dictionary {\"name\": \"Mia\", \"age\": 35}.\n",
    "Write a Python program to get all the values in the dictionary {\"a\": 10, \"b\": 20, \"c\": 30}.\n",
    "Update the dictionary {\"name\": \"Liam\"} with another dictionary {\"age\": 40} using an inbuilt method.\n",
    "Count the total number of key-value pairs in the dictionary {\"x\": 1, \"y\": 2, \"z\": 3}.\n",
    "Clear all items in the dictionary {\"fruit\": \"apple\", \"color\": \"red\"} using an inbuilt method.\n",
    "Write a Python program to create a dictionary from two lists [\"name\", \"age\"] and [\"John\", 30].\n",
    "\n",
    "\n",
    "\n",
    "Tuples\n",
    "Write a program to access the second element of the tuple (10, 20, 30, 40).\n",
    "Create a tuple with a single element 5 and verify its type.\n",
    "Use slicing to print the last three elements of the tuple (1, 2, 3, 4, 5, 6).\n",
    "Concatenate the tuples (1, 2) and (3, 4) and print the result.\n",
    "Find the index of the element 50 in the tuple (10, 20, 30, 50, 40).\n",
    "Count the number of times the element 10 appears in the tuple (10, 20, 10, 40, 10).\n",
    "Write a Python program to check if the element 25 exists in the tuple (15, 25, 35).\n",
    "Convert the tuple (1, 2, 3) into a list using an inbuilt method.\n",
    "Write a Python program to sort the tuple (5, 1, 3, 2, 4) and print it as a sorted list.\n",
    "Create a tuple by repeating the elements of (1, 2) three times using the multiplication operator."
   ]
  },
  {
   "cell_type": "markdown",
   "metadata": {},
   "source": [
    "#### Strings"
   ]
  },
  {
   "cell_type": "code",
   "execution_count": 1,
   "metadata": {},
   "outputs": [
    {
     "name": "stdout",
     "output_type": "stream",
     "text": [
      "The given world starts with the expected sub string ---> sudh\n"
     ]
    }
   ],
   "source": [
    "# Write a Python program to check if a given string starts with a specific substring using an inbuilt method.\n",
    "\n",
    "s = \"sudhanshu\"\n",
    "sub_string = \"sudh\"\n",
    "flag = s.startswith(sub_string)\n",
    "\n",
    "if flag:\n",
    "    print(\"The given world starts with the expected sub string --->\", sub_string)\n",
    "else:\n",
    "    print(\"Something wrong with the given word\")"
   ]
  },
  {
   "cell_type": "code",
   "execution_count": 4,
   "metadata": {},
   "outputs": [
    {
     "name": "stdout",
     "output_type": "stream",
     "text": [
      "The given substring Python is at 14th position\n"
     ]
    }
   ],
   "source": [
    "# Find the index of the first occurrence of the substring \"Python\" in the string \"I am learning Python programming\".\n",
    "\n",
    "sentence = \"I am learning Python programming\"\n",
    "sub_string = \"Python\"\n",
    "\n",
    "index = sentence.find(sub_string)\n",
    "print(\"The given substring\",sub_string,\"is at\",str(index)+\"th position\")"
   ]
  },
  {
   "cell_type": "code",
   "execution_count": 5,
   "metadata": {},
   "outputs": [
    {
     "name": "stdout",
     "output_type": "stream",
     "text": [
      "HELLO WORLD\n"
     ]
    }
   ],
   "source": [
    "# Convert the string \"hello world\" to uppercase using an inbuilt method.\n",
    "\n",
    "word = \"hello world\"\n",
    "\n",
    "uppercase_word = word.upper()\n",
    "\n",
    "print(uppercase_word)"
   ]
  },
  {
   "cell_type": "code",
   "execution_count": 6,
   "metadata": {},
   "outputs": [
    {
     "name": "stdout",
     "output_type": "stream",
     "text": [
      "The dog sat on the dog mat\n"
     ]
    }
   ],
   "source": [
    "# Replace all occurrences of \"cat\" with \"dog\" in the string \"The cat sat on the cat mat\".\n",
    "\n",
    "sentence = \"The cat sat on the cat mat\"\n",
    "\n",
    "new_sentence = sentence.replace(\"cat\",\"dog\",-1)\n",
    "\n",
    "print(new_sentence)"
   ]
  },
  {
   "cell_type": "code",
   "execution_count": 7,
   "metadata": {},
   "outputs": [
    {
     "name": "stdout",
     "output_type": "stream",
     "text": [
      "count of a in the word banana is 3\n"
     ]
    }
   ],
   "source": [
    "# Write a Python program to count the number of times the letter 'a' appears in the string \"banana\".\n",
    "\n",
    "word = \"banana\"\n",
    "\n",
    "count_a = word.count('a')\n",
    "\n",
    "print(\"count of a in the word\", word, \"is\", count_a)"
   ]
  },
  {
   "cell_type": "code",
   "execution_count": 13,
   "metadata": {},
   "outputs": [
    {
     "name": "stdout",
     "output_type": "stream",
     "text": [
      "7\n",
      "5\n",
      "World\n"
     ]
    }
   ],
   "source": [
    "# Extract the substring \"World\" from the string \"Hello, World!\" using slicing.\n",
    "\n",
    "word = \"Hello, World!\"\n",
    "sub_string = \"World\"\n",
    "\n",
    "index = word.find(sub_string)\n",
    "print(index)\n",
    "\n",
    "sub_string_length = len(sub_string)\n",
    "print(sub_string_length)\n",
    "\n",
    "word_extract = word[index:index+sub_string_length]\n",
    "print(word_extract)"
   ]
  },
  {
   "cell_type": "code",
   "execution_count": 15,
   "metadata": {},
   "outputs": [
    {
     "name": "stdout",
     "output_type": "stream",
     "text": [
      "Python\n",
      "nohtyP\n"
     ]
    }
   ],
   "source": [
    "# Reverse the string \"Python\" using slicing.\n",
    "\n",
    "word = \"Python\"\n",
    "\n",
    "print(word)\n",
    "print(word[::-1])"
   ]
  },
  {
   "cell_type": "code",
   "execution_count": 17,
   "metadata": {},
   "outputs": [
    {
     "name": "stdout",
     "output_type": "stream",
     "text": [
      " Hello World \n",
      "Hello World\n"
     ]
    }
   ],
   "source": [
    "# Write a program to remove leading and trailing whitespaces from the string \" Hello World \".\n",
    "\n",
    "word = \" Hello World \"\n",
    "\n",
    "clean_word = word.strip(\" \")\n",
    "\n",
    "print(word)\n",
    "print(clean_word)\n"
   ]
  },
  {
   "cell_type": "code",
   "execution_count": 20,
   "metadata": {},
   "outputs": [
    {
     "name": "stdout",
     "output_type": "stream",
     "text": [
      "The given string is alpha numeric\n"
     ]
    }
   ],
   "source": [
    "# Check if the string \"abc123\" is alphanumeric using an inbuilt method.\n",
    "\n",
    "word = \"abc123\"\n",
    "\n",
    "flag = word.isalnum()\n",
    "\n",
    "print(\"The given string is alpha numeric\") if flag else print(\"The given string is not alpha numeric\")"
   ]
  },
  {
   "cell_type": "code",
   "execution_count": 21,
   "metadata": {},
   "outputs": [
    {
     "name": "stdout",
     "output_type": "stream",
     "text": [
      "['apple', 'banana', 'cherry']\n"
     ]
    }
   ],
   "source": [
    "# Split the string \"apple,banana,cherry\" into a list of words using an inbuilt method.\n",
    "\n",
    "word = \"apple,banana,cherry\"\n",
    "\n",
    "fruit_list = word.split(\",\")\n",
    "\n",
    "print(fruit_list)"
   ]
  },
  {
   "cell_type": "markdown",
   "metadata": {},
   "source": [
    "#### Lists"
   ]
  },
  {
   "cell_type": "code",
   "execution_count": 22,
   "metadata": {},
   "outputs": [
    {
     "name": "stdout",
     "output_type": "stream",
     "text": [
      "[1, 2, 3, 4]\n",
      "[1, 2, 3, 4, 5]\n"
     ]
    }
   ],
   "source": [
    "# Write a Python program to append the number 5 to the list [1, 2, 3, 4] using an inbuilt method.\n",
    "\n",
    "l = [1, 2, 3, 4]\n",
    "\n",
    "print(l)\n",
    "\n",
    "l.append(5)\n",
    "print(l)"
   ]
  },
  {
   "cell_type": "code",
   "execution_count": 23,
   "metadata": {},
   "outputs": [
    {
     "name": "stdout",
     "output_type": "stream",
     "text": [
      "['apple', 'banana', 'cherry']\n",
      "['apple', 'cherry']\n"
     ]
    }
   ],
   "source": [
    "# Remove the element \"banana\" from the list [\"apple\", \"banana\", \"cherry\"].\n",
    "\n",
    "l = [\"apple\", \"banana\", \"cherry\"]\n",
    "\n",
    "print(l)\n",
    "l.remove(\"banana\")\n",
    "print(l)"
   ]
  },
  {
   "cell_type": "code",
   "execution_count": 26,
   "metadata": {},
   "outputs": [
    {
     "name": "stdout",
     "output_type": "stream",
     "text": [
      "['apple', 'cherry']\n",
      "['apple', 'orange', 'cherry']\n"
     ]
    }
   ],
   "source": [
    "# Insert the element \"orange\" at index 1 in the list [\"apple\", \"cherry\"].\n",
    "\n",
    "print(l)\n",
    "\n",
    "l.insert(1, \"orange\")\n",
    "\n",
    "print(l)"
   ]
  },
  {
   "cell_type": "code",
   "execution_count": 27,
   "metadata": {},
   "outputs": [
    {
     "name": "stdout",
     "output_type": "stream",
     "text": [
      "2\n"
     ]
    }
   ],
   "source": [
    "# Find the index of the number 3 in the list [1, 2, 3, 4, 5].\n",
    "\n",
    "l = [1, 2, 3, 4, 5]\n",
    "\n",
    "index = l.index(3)\n",
    "\n",
    "print(index)"
   ]
  },
  {
   "cell_type": "code",
   "execution_count": 29,
   "metadata": {},
   "outputs": [
    {
     "name": "stdout",
     "output_type": "stream",
     "text": [
      "[1, 2, 3, 4]\n",
      "[4, 3, 2, 1]\n"
     ]
    }
   ],
   "source": [
    "# Reverse the list [1, 2, 3, 4] using an inbuilt method.\n",
    "\n",
    "l = [1, 2, 3, 4]\n",
    "print(l)\n",
    "\n",
    "l.reverse()\n",
    "print(l)"
   ]
  },
  {
   "cell_type": "code",
   "execution_count": 30,
   "metadata": {},
   "outputs": [
    {
     "name": "stdout",
     "output_type": "stream",
     "text": [
      "[10, 20, 30, 40, 50]\n",
      "[10, 20, 30]\n"
     ]
    }
   ],
   "source": [
    "# Write a Python program to slice and print the first three elements of the list [10, 20, 30, 40, 50].\n",
    "\n",
    "l = [10, 20, 30, 40, 50]\n",
    "print(l)\n",
    "\n",
    "l_3 = l[:3]\n",
    "print(l_3)"
   ]
  },
  {
   "cell_type": "code",
   "execution_count": 31,
   "metadata": {},
   "outputs": [
    {
     "name": "stdout",
     "output_type": "stream",
     "text": [
      "[5, 2, 9, 1, 5]\n",
      "[1, 2, 5, 5, 9]\n"
     ]
    }
   ],
   "source": [
    "# Sort the list [5, 2, 9, 1, 5] in ascending order using an inbuilt method.\n",
    "\n",
    "l = [5, 2, 9, 1, 5]\n",
    "print(l)\n",
    "\n",
    "l.sort()\n",
    "print(l)"
   ]
  },
  {
   "cell_type": "code",
   "execution_count": 32,
   "metadata": {},
   "outputs": [
    {
     "name": "stdout",
     "output_type": "stream",
     "text": [
      "3\n"
     ]
    }
   ],
   "source": [
    "# Write a program to count the number of times the number 5 appears in the list [5, 1, 5, 2, 5, 3].\n",
    "\n",
    "l = [5, 1, 5, 2, 5, 3]\n",
    "\n",
    "count_5 = l.count(5)\n",
    "print(count_5)"
   ]
  },
  {
   "cell_type": "code",
   "execution_count": 35,
   "metadata": {},
   "outputs": [
    {
     "name": "stdout",
     "output_type": "stream",
     "text": [
      "[1, 2, 3, 4]\n"
     ]
    }
   ],
   "source": [
    "# Concatenate the lists [1, 2] and [3, 4] and print the resulting list.\n",
    "\n",
    "l1 = [1, 2]\n",
    "l2 = [3, 4]\n",
    "\n",
    "l3 = l1+l2\n",
    "\n",
    "print(l3)"
   ]
  },
  {
   "cell_type": "code",
   "execution_count": 36,
   "metadata": {},
   "outputs": [
    {
     "name": "stdout",
     "output_type": "stream",
     "text": [
      "The given fruit does not exists in our list\n"
     ]
    }
   ],
   "source": [
    "# Check if the element \"kiwi\" exists in the list [\"apple\", \"banana\", \"cherry\"] using an inbuilt method.\n",
    "\n",
    "l = [\"apple\", \"banana\", \"cherry\"]\n",
    "element = \"kiwi\"\n",
    "\n",
    "if element in l:\n",
    "    print(\"The given fruit exists in our list\")\n",
    "else:\n",
    "    print(\"The given fruit does not exists in our list\")\n"
   ]
  },
  {
   "cell_type": "markdown",
   "metadata": {},
   "source": [
    "#### Dictionaries"
   ]
  },
  {
   "cell_type": "code",
   "execution_count": 37,
   "metadata": {},
   "outputs": [
    {
     "name": "stdout",
     "output_type": "stream",
     "text": [
      "{'name': 'John'}\n",
      "{'name': 'John', 'age': 25}\n"
     ]
    }
   ],
   "source": [
    "# Write a Python program to add a new key-value pair \"age\": 25 to the dictionary {\"name\": \"John\"}.\n",
    "\n",
    "d = {\"name\": \"John\"}\n",
    "print(d)\n",
    "\n",
    "d[\"age\"] = 25\n",
    "print(d)"
   ]
  },
  {
   "cell_type": "code",
   "execution_count": 38,
   "metadata": {},
   "outputs": [
    {
     "name": "stdout",
     "output_type": "stream",
     "text": [
      "30\n"
     ]
    }
   ],
   "source": [
    "# Retrieve the value associated with the key \"name\" from the dictionary {\"name\": \"Alice\", \"age\": 30}.\n",
    "\n",
    "d = {\"name\": \"Alice\", \"age\": 30}\n",
    "\n",
    "value = d[\"age\"]\n",
    "\n",
    "print(value)\n"
   ]
  },
  {
   "cell_type": "code",
   "execution_count": 40,
   "metadata": {},
   "outputs": [
    {
     "name": "stdout",
     "output_type": "stream",
     "text": [
      "{'name': 'Bob', 'age': 45}\n",
      "{'name': 'Bob'}\n"
     ]
    }
   ],
   "source": [
    "# Remove the key \"age\" from the dictionary {\"name\": \"Bob\", \"age\": 45} using an inbuilt method.\n",
    "\n",
    "d = {\"name\": \"Bob\", \"age\": 45}\n",
    "print(d)\n",
    "\n",
    "d.pop(\"age\")\n",
    "print(d)"
   ]
  },
  {
   "cell_type": "code",
   "execution_count": 42,
   "metadata": {},
   "outputs": [
    {
     "name": "stdout",
     "output_type": "stream",
     "text": [
      "{'name': 'Emma', 'age': 28, 'city': 'New York'}\n",
      "dict_keys(['name', 'age', 'city'])\n",
      "['name', 'age', 'city']\n"
     ]
    }
   ],
   "source": [
    "# Write a program to list all the keys in the dictionary {\"name\": \"Emma\", \"age\": 28, \"city\": \"New York\"}.\n",
    "\n",
    "d = {\"name\": \"Emma\", \"age\": 28, \"city\": \"New York\"}\n",
    "print(d)\n",
    "\n",
    "keys = d.keys()\n",
    "print(keys)\n",
    "\n",
    "keys_list = list(keys)\n",
    "print(keys_list)"
   ]
  },
  {
   "cell_type": "code",
   "execution_count": 47,
   "metadata": {},
   "outputs": [
    {
     "name": "stdout",
     "output_type": "stream",
     "text": [
      "The given key does not exists in our dictionary\n"
     ]
    }
   ],
   "source": [
    "# Use an inbuilt method to check if the key \"city\" exists in the dictionary {\"name\": \"Mia\", \"age\": 35}.\n",
    "\n",
    "d = {\"name\": \"Mia\", \"age\": 35}\n",
    "\n",
    "value = d.get(\"city\")\n",
    "\n",
    "if value is not None:\n",
    "    print(\"The given keys exists in our dictionary\")\n",
    "else:\n",
    "    print(\"The given key does not exists in our dictionary\")\n"
   ]
  },
  {
   "cell_type": "code",
   "execution_count": 49,
   "metadata": {},
   "outputs": [
    {
     "name": "stdout",
     "output_type": "stream",
     "text": [
      "{'a': 10, 'b': 20, 'c': 30}\n",
      "dict_values([10, 20, 30])\n"
     ]
    }
   ],
   "source": [
    "# Write a Python program to get all the values in the dictionary {\"a\": 10, \"b\": 20, \"c\": 30}.\n",
    "\n",
    "d = {\"a\": 10, \"b\": 20, \"c\": 30}\n",
    "print(d)\n",
    "\n",
    "values = d.values()\n",
    "print(values)\n"
   ]
  },
  {
   "cell_type": "code",
   "execution_count": 50,
   "metadata": {},
   "outputs": [
    {
     "name": "stdout",
     "output_type": "stream",
     "text": [
      "{'name': 'Liam'}\n",
      "{'name': 'Liam', 'age': 40}\n"
     ]
    }
   ],
   "source": [
    "# Update the dictionary {\"name\": \"Liam\"} with another dictionary {\"age\": 40} using an inbuilt method.\n",
    "\n",
    "d = {\"name\": \"Liam\"}\n",
    "print(d)\n",
    "\n",
    "d.update({\"age\": 40})\n",
    "print(d)\n"
   ]
  },
  {
   "cell_type": "code",
   "execution_count": 51,
   "metadata": {},
   "outputs": [
    {
     "name": "stdout",
     "output_type": "stream",
     "text": [
      "3\n"
     ]
    }
   ],
   "source": [
    "# Count the total number of key-value pairs in the dictionary {\"x\": 1, \"y\": 2, \"z\": 3}.\n",
    "\n",
    "d = {\"x\": 1, \"y\": 2, \"z\": 3}\n",
    "count = len(d)\n",
    "\n",
    "print(count)"
   ]
  },
  {
   "cell_type": "code",
   "execution_count": 52,
   "metadata": {},
   "outputs": [
    {
     "name": "stdout",
     "output_type": "stream",
     "text": [
      "{'fruit': 'apple', 'color': 'red'}\n",
      "{}\n"
     ]
    }
   ],
   "source": [
    "# Clear all items in the dictionary {\"fruit\": \"apple\", \"color\": \"red\"} using an inbuilt method.\n",
    "\n",
    "d = {\"fruit\": \"apple\", \"color\": \"red\"}\n",
    "print(d)\n",
    "\n",
    "d.clear()\n",
    "print(d)"
   ]
  },
  {
   "cell_type": "code",
   "execution_count": 65,
   "metadata": {},
   "outputs": [
    {
     "name": "stdout",
     "output_type": "stream",
     "text": [
      "{'name': 'John', 'age': 30}\n"
     ]
    }
   ],
   "source": [
    "# Write a Python program to create a dictionary from two lists [\"name\", \"age\"] and [\"John\", 30].\n",
    "\n",
    "l1 = [\"name\", \"age\"]\n",
    "l2 = [\"John\", 30]\n",
    "\n",
    "d = {}\n",
    "\n",
    "for i in range(len(l1)):\n",
    "    d[l1[i]] = l2[i]\n",
    "\n",
    "print(d)\n"
   ]
  },
  {
   "cell_type": "markdown",
   "metadata": {},
   "source": [
    "#### Tuples"
   ]
  },
  {
   "cell_type": "code",
   "execution_count": 66,
   "metadata": {},
   "outputs": [
    {
     "name": "stdout",
     "output_type": "stream",
     "text": [
      "20\n"
     ]
    }
   ],
   "source": [
    "# Write a program to access the second element of the tuple (10, 20, 30, 40).\n",
    "\n",
    "t = (10, 20, 30, 40)\n",
    "print(t[1])"
   ]
  },
  {
   "cell_type": "code",
   "execution_count": 67,
   "metadata": {},
   "outputs": [
    {
     "name": "stdout",
     "output_type": "stream",
     "text": [
      "(5,)\n",
      "<class 'tuple'>\n"
     ]
    }
   ],
   "source": [
    "# Create a tuple with a single element 5 and verify its type.\n",
    "\n",
    "t = (5,)\n",
    "print(t)\n",
    "print(type(t))"
   ]
  },
  {
   "cell_type": "code",
   "execution_count": 69,
   "metadata": {},
   "outputs": [
    {
     "name": "stdout",
     "output_type": "stream",
     "text": [
      "(1, 2, 3, 4, 5, 6)\n",
      "(4, 5, 6)\n"
     ]
    }
   ],
   "source": [
    "# Use slicing to print the last three elements of the tuple (1, 2, 3, 4, 5, 6).\n",
    "\n",
    "t = (1, 2, 3, 4, 5, 6)\n",
    "print(t)\n",
    "\n",
    "t_3 = t[-3:]\n",
    "print(t_3)"
   ]
  },
  {
   "cell_type": "code",
   "execution_count": 70,
   "metadata": {},
   "outputs": [
    {
     "name": "stdout",
     "output_type": "stream",
     "text": [
      "(1, 2)\n",
      "(3, 4)\n",
      "(1, 2, 3, 4)\n"
     ]
    }
   ],
   "source": [
    "# Concatenate the tuples (1, 2) and (3, 4) and print the result.\n",
    "\n",
    "t1 = (1, 2)\n",
    "t2 = (3, 4)\n",
    "print(t1)\n",
    "print(t2)\n",
    "\n",
    "t3 = t1 + t2\n",
    "print(t3)"
   ]
  },
  {
   "cell_type": "code",
   "execution_count": 71,
   "metadata": {},
   "outputs": [
    {
     "name": "stdout",
     "output_type": "stream",
     "text": [
      "3\n"
     ]
    }
   ],
   "source": [
    "# Find the index of the element 50 in the tuple (10, 20, 30, 50, 40).\n",
    "\n",
    "t = (10, 20, 30, 50, 40)\n",
    "index = t.index(50)\n",
    "print(index)"
   ]
  },
  {
   "cell_type": "code",
   "execution_count": 72,
   "metadata": {},
   "outputs": [
    {
     "name": "stdout",
     "output_type": "stream",
     "text": [
      "3\n"
     ]
    }
   ],
   "source": [
    "# Count the number of times the element 10 appears in the tuple (10, 20, 10, 40, 10).\n",
    "\n",
    "t = (10, 20, 10, 40, 10)\n",
    "count_10 = t.count(10)\n",
    "\n",
    "print(count_10)"
   ]
  },
  {
   "cell_type": "code",
   "execution_count": 73,
   "metadata": {},
   "outputs": [
    {
     "name": "stdout",
     "output_type": "stream",
     "text": [
      "The given number is avaiable in our tuple\n"
     ]
    }
   ],
   "source": [
    "# Write a Python program to check if the element 25 exists in the tuple (15, 25, 35).\n",
    "\n",
    "t = (15, 25, 35)\n",
    "\n",
    "if 25 in t:\n",
    "    print(\"The given number is avaiable in our tuple\")\n",
    "else:\n",
    "    print(\"The given number is not availabe in our tuple\")"
   ]
  },
  {
   "cell_type": "code",
   "execution_count": 74,
   "metadata": {},
   "outputs": [
    {
     "name": "stdout",
     "output_type": "stream",
     "text": [
      "(1, 2, 3)\n",
      "[1, 2, 3]\n"
     ]
    }
   ],
   "source": [
    "# Convert the tuple (1, 2, 3) into a list using an inbuilt method.\n",
    "\n",
    "t = (1, 2, 3)\n",
    "print(t)\n",
    "\n",
    "list_t = list(t)\n",
    "print(list_t)"
   ]
  },
  {
   "cell_type": "code",
   "execution_count": 80,
   "metadata": {},
   "outputs": [
    {
     "name": "stdout",
     "output_type": "stream",
     "text": [
      "(5, 1, 3, 2, 4)\n",
      "[1, 2, 3, 4, 5]\n",
      "(1, 2, 3, 4, 5)\n"
     ]
    }
   ],
   "source": [
    "# Write a Python program to sort the tuple (5, 1, 3, 2, 4) and print it as a sorted list.\n",
    "\n",
    "t = (5, 1, 3, 2, 4)\n",
    "print(t)\n",
    "\n",
    "t_list = list(t)\n",
    "t_list.sort()\n",
    "print(t_list)\n",
    "\n",
    "t_sort = tuple(t_list)\n",
    "print(t_sort)"
   ]
  },
  {
   "cell_type": "code",
   "execution_count": 81,
   "metadata": {},
   "outputs": [
    {
     "name": "stdout",
     "output_type": "stream",
     "text": [
      "(1, 2, 1, 2, 1, 2)\n"
     ]
    }
   ],
   "source": [
    "# Create a tuple by repeating the elements of (1, 2) three times using the multiplication operator.\n",
    "\n",
    "t = (1, 2)\n",
    "\n",
    "t_3 = t * 3\n",
    "print(t_3)"
   ]
  }
 ],
 "metadata": {
  "kernelspec": {
   "display_name": "Python 3",
   "language": "python",
   "name": "python3"
  },
  "language_info": {
   "codemirror_mode": {
    "name": "ipython",
    "version": 3
   },
   "file_extension": ".py",
   "mimetype": "text/x-python",
   "name": "python",
   "nbconvert_exporter": "python",
   "pygments_lexer": "ipython3",
   "version": "3.12.8"
  }
 },
 "nbformat": 4,
 "nbformat_minor": 2
}
