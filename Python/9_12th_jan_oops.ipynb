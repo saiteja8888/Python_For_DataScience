{
 "cells": [
  {
   "cell_type": "code",
   "execution_count": null,
   "metadata": {},
   "outputs": [],
   "source": [
    "class euron:\n",
    "    def __init__(self, name, course, mentor, price):\n",
    "        self.name = name\n",
    "        self.course = course\n",
    "        self.mentor = mentor\n",
    "        self.price = price"
   ]
  }
 ],
 "metadata": {
  "language_info": {
   "name": "python"
  }
 },
 "nbformat": 4,
 "nbformat_minor": 2
}
