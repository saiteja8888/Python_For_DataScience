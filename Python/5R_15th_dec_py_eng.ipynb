{
 "cells": [
  {
   "cell_type": "code",
   "execution_count": 1,
   "metadata": {},
   "outputs": [],
   "source": [
    "l = [4,5,6,7,8,3,3,4,5]"
   ]
  },
  {
   "cell_type": "code",
   "execution_count": 2,
   "metadata": {},
   "outputs": [
    {
     "name": "stdout",
     "output_type": "stream",
     "text": [
      "4\n",
      "5\n",
      "6\n",
      "7\n",
      "8\n",
      "3\n",
      "3\n",
      "4\n",
      "5\n"
     ]
    }
   ],
   "source": [
    "for i in l :\n",
    "    print(i)"
   ]
  },
  {
   "cell_type": "code",
   "execution_count": 3,
   "metadata": {},
   "outputs": [
    {
     "data": {
      "text/plain": [
       "[4, 5, 6, 7, 8, 3, 3, 4, 5]"
      ]
     },
     "execution_count": 3,
     "metadata": {},
     "output_type": "execute_result"
    }
   ],
   "source": [
    "l"
   ]
  },
  {
   "cell_type": "code",
   "execution_count": 4,
   "metadata": {},
   "outputs": [
    {
     "name": "stdout",
     "output_type": "stream",
     "text": [
      "5\n",
      "6\n",
      "7\n",
      "8\n",
      "9\n",
      "4\n",
      "4\n",
      "5\n",
      "6\n"
     ]
    }
   ],
   "source": [
    "for i in l :\n",
    "    print(i + 1)"
   ]
  },
  {
   "cell_type": "code",
   "execution_count": 5,
   "metadata": {},
   "outputs": [
    {
     "name": "stdout",
     "output_type": "stream",
     "text": [
      "16\n",
      "25\n",
      "36\n",
      "49\n",
      "64\n",
      "9\n",
      "9\n",
      "16\n",
      "25\n"
     ]
    }
   ],
   "source": [
    "for i in l :\n",
    "    print(i**2)"
   ]
  },
  {
   "cell_type": "code",
   "execution_count": 6,
   "metadata": {},
   "outputs": [
    {
     "data": {
      "text/plain": [
       "[4, 5, 6, 7, 8, 3, 3, 4, 5]"
      ]
     },
     "execution_count": 6,
     "metadata": {},
     "output_type": "execute_result"
    }
   ],
   "source": [
    "l"
   ]
  },
  {
   "cell_type": "code",
   "execution_count": 7,
   "metadata": {},
   "outputs": [
    {
     "name": "stdout",
     "output_type": "stream",
     "text": [
      "e\n",
      "u\n",
      "r\n",
      "o\n",
      "n\n"
     ]
    }
   ],
   "source": [
    "s = \"euron\"\n",
    "for i in s :\n",
    "    print(i)"
   ]
  },
  {
   "cell_type": "code",
   "execution_count": 8,
   "metadata": {},
   "outputs": [
    {
     "name": "stdout",
     "output_type": "stream",
     "text": [
      "e\n",
      "u\n",
      "r\n",
      "o\n",
      "n\n"
     ]
    }
   ],
   "source": [
    "s = \"euron\"\n",
    "for sudh in s :\n",
    "    print(sudh)"
   ]
  },
  {
   "cell_type": "code",
   "execution_count": 9,
   "metadata": {},
   "outputs": [
    {
     "name": "stdout",
     "output_type": "stream",
     "text": [
      "4\n",
      "5\n",
      "6\n",
      "7\n",
      "8\n",
      "8\n",
      "8\n"
     ]
    }
   ],
   "source": [
    "t = (4,5,6,7,8,8,8)\n",
    "for i in t :\n",
    "    print(i)"
   ]
  },
  {
   "cell_type": "code",
   "execution_count": 10,
   "metadata": {},
   "outputs": [
    {
     "name": "stdout",
     "output_type": "stream",
     "text": [
      "3\n",
      "4\n",
      "5\n",
      "6\n",
      "7\n",
      "8\n"
     ]
    }
   ],
   "source": [
    "s = {4,5,6,7,8,8,3,4,5,6,6,7,7}\n",
    "for i in s :\n",
    "    print(i)"
   ]
  },
  {
   "cell_type": "code",
   "execution_count": 11,
   "metadata": {},
   "outputs": [],
   "source": [
    "d = {\"name\" :\"euron\" ,\"class\":\"python eng\" , \"mentor\" :\"sudhanshu kumar\"}"
   ]
  },
  {
   "cell_type": "code",
   "execution_count": 15,
   "metadata": {},
   "outputs": [
    {
     "name": "stdout",
     "output_type": "stream",
     "text": [
      "name\n",
      "class\n",
      "mentor\n"
     ]
    }
   ],
   "source": [
    "for i in d.keys():\n",
    "    print(i)"
   ]
  },
  {
   "cell_type": "code",
   "execution_count": 14,
   "metadata": {},
   "outputs": [
    {
     "name": "stdout",
     "output_type": "stream",
     "text": [
      "euron\n",
      "python eng\n",
      "sudhanshu kumar\n"
     ]
    }
   ],
   "source": [
    "for i in d.values():\n",
    "    print(i)"
   ]
  },
  {
   "cell_type": "code",
   "execution_count": 17,
   "metadata": {},
   "outputs": [
    {
     "name": "stdout",
     "output_type": "stream",
     "text": [
      "name euron\n",
      "class python eng\n",
      "mentor sudhanshu kumar\n"
     ]
    }
   ],
   "source": [
    "for i,j in d.items():\n",
    "    print(i,j)"
   ]
  },
  {
   "cell_type": "code",
   "execution_count": 18,
   "metadata": {},
   "outputs": [],
   "source": [
    "l = [\"euron\" ,4,5,6,7,8,34,56.45,True , \"sudh\",False, 5+7j]"
   ]
  },
  {
   "cell_type": "code",
   "execution_count": 23,
   "metadata": {},
   "outputs": [],
   "source": [
    "l_str = []\n",
    "l_int = []\n",
    "l_float = []\n",
    "l_bool= []\n",
    "l_extra = []\n",
    "for i in l :\n",
    "    if type(i) == str :\n",
    "        l_str.append(i)\n",
    "    elif type(i) == int :\n",
    "        l_int.append(i)\n",
    "    elif type(i) == float :\n",
    "        l_float.append(i)\n",
    "    elif type(i) == bool:\n",
    "        l_bool.append(i)\n",
    "    else :\n",
    "        l_extra.append(i)"
   ]
  },
  {
   "cell_type": "code",
   "execution_count": 27,
   "metadata": {},
   "outputs": [
    {
     "data": {
      "text/plain": [
       "['euron', 'sudh']"
      ]
     },
     "execution_count": 27,
     "metadata": {},
     "output_type": "execute_result"
    }
   ],
   "source": [
    "l_str"
   ]
  },
  {
   "cell_type": "code",
   "execution_count": 28,
   "metadata": {},
   "outputs": [
    {
     "name": "stdout",
     "output_type": "stream",
     "text": [
      "s\n",
      "u\n",
      "d\n",
      "h\n"
     ]
    }
   ],
   "source": [
    "s = \"sudh\"\n",
    "for i in s :\n",
    "    print(i)"
   ]
  },
  {
   "cell_type": "code",
   "execution_count": 29,
   "metadata": {},
   "outputs": [],
   "source": [
    "import string"
   ]
  },
  {
   "cell_type": "code",
   "execution_count": 31,
   "metadata": {},
   "outputs": [
    {
     "name": "stdout",
     "output_type": "stream",
     "text": [
      "a\n",
      "b\n",
      "c\n",
      "d\n",
      "e\n",
      "f\n",
      "g\n",
      "h\n",
      "i\n",
      "j\n",
      "k\n",
      "l\n",
      "m\n",
      "n\n",
      "o\n",
      "p\n",
      "q\n",
      "r\n",
      "s\n",
      "t\n",
      "u\n",
      "v\n",
      "w\n",
      "x\n",
      "y\n",
      "z\n",
      "A\n",
      "B\n",
      "C\n",
      "D\n",
      "E\n",
      "F\n",
      "G\n",
      "H\n",
      "I\n",
      "J\n",
      "K\n",
      "L\n",
      "M\n",
      "N\n",
      "O\n",
      "P\n",
      "Q\n",
      "R\n",
      "S\n",
      "T\n",
      "U\n",
      "V\n",
      "W\n",
      "X\n",
      "Y\n",
      "Z\n"
     ]
    }
   ],
   "source": [
    "for i in string.ascii_letters:\n",
    "    print(i)"
   ]
  },
  {
   "cell_type": "code",
   "execution_count": 32,
   "metadata": {},
   "outputs": [
    {
     "data": {
      "text/plain": [
       "range(0, 5)"
      ]
     },
     "execution_count": 32,
     "metadata": {},
     "output_type": "execute_result"
    }
   ],
   "source": [
    "range(5)"
   ]
  },
  {
   "cell_type": "code",
   "execution_count": 33,
   "metadata": {},
   "outputs": [
    {
     "data": {
      "text/plain": [
       "[0, 1, 2, 3, 4]"
      ]
     },
     "execution_count": 33,
     "metadata": {},
     "output_type": "execute_result"
    }
   ],
   "source": [
    "list(range(5))"
   ]
  },
  {
   "cell_type": "code",
   "execution_count": 34,
   "metadata": {},
   "outputs": [
    {
     "data": {
      "text/plain": [
       "[1, 2, 3, 4]"
      ]
     },
     "execution_count": 34,
     "metadata": {},
     "output_type": "execute_result"
    }
   ],
   "source": [
    "list(range(1 , 5))"
   ]
  },
  {
   "cell_type": "code",
   "execution_count": 35,
   "metadata": {},
   "outputs": [
    {
     "data": {
      "text/plain": [
       "[1, 3, 5, 7, 9]"
      ]
     },
     "execution_count": 35,
     "metadata": {},
     "output_type": "execute_result"
    }
   ],
   "source": [
    "list(range(1 , 10,2))"
   ]
  },
  {
   "cell_type": "code",
   "execution_count": 36,
   "metadata": {},
   "outputs": [
    {
     "name": "stdout",
     "output_type": "stream",
     "text": [
      "0\n",
      "1\n",
      "2\n",
      "3\n",
      "4\n",
      "5\n",
      "6\n",
      "7\n",
      "8\n",
      "9\n"
     ]
    }
   ],
   "source": [
    "for i in range(10):\n",
    "    print(i)\n"
   ]
  },
  {
   "cell_type": "code",
   "execution_count": 37,
   "metadata": {},
   "outputs": [
    {
     "name": "stdout",
     "output_type": "stream",
     "text": [
      "0\n",
      "1\n",
      "1\n",
      "2\n",
      "3\n",
      "5\n",
      "8\n",
      "13\n",
      "21\n",
      "34\n"
     ]
    }
   ],
   "source": [
    "a = 0\n",
    "b = 1 \n",
    "limit  = 10 \n",
    "\n",
    "for i in range(10):\n",
    "    print(a)\n",
    "    a,b = b ,a+b"
   ]
  },
  {
   "cell_type": "code",
   "execution_count": 38,
   "metadata": {},
   "outputs": [
    {
     "name": "stdout",
     "output_type": "stream",
     "text": [
      "0\n",
      "1\n",
      "2\n",
      "3\n",
      "4\n",
      "5\n",
      "6\n",
      "7\n",
      "8\n",
      "9\n",
      "10\n"
     ]
    }
   ],
   "source": [
    "for i in range(11):\n",
    "    print(i)"
   ]
  },
  {
   "cell_type": "code",
   "execution_count": 39,
   "metadata": {},
   "outputs": [
    {
     "name": "stdout",
     "output_type": "stream",
     "text": [
      "0\n",
      "1\n",
      "2\n",
      "3\n",
      "4\n",
      "5\n",
      "6\n",
      "7\n",
      "8\n",
      "9\n",
      "10\n"
     ]
    }
   ],
   "source": [
    "i = 0 \n",
    "\n",
    "while i <= 10 :\n",
    "    print(i)\n",
    "    i  = i+ 1"
   ]
  },
  {
   "cell_type": "code",
   "execution_count": 46,
   "metadata": {},
   "outputs": [
    {
     "name": "stdout",
     "output_type": "stream",
     "text": [
      "sudh  \n",
      "sudh  sudh  \n",
      "sudh  sudh  sudh  \n",
      "sudh  sudh  sudh  sudh  \n",
      "sudh  sudh  sudh  sudh  sudh  \n",
      "sudh  sudh  sudh  sudh  sudh  sudh  \n",
      "sudh  sudh  sudh  sudh  sudh  sudh  sudh  \n",
      "sudh  sudh  sudh  sudh  sudh  sudh  sudh  sudh  \n",
      "sudh  sudh  sudh  sudh  sudh  sudh  sudh  sudh  sudh  \n",
      "sudh  sudh  sudh  sudh  sudh  sudh  sudh  sudh  sudh  sudh  \n",
      "sudh  sudh  sudh  sudh  sudh  sudh  sudh  sudh  sudh  sudh  sudh  \n",
      "sudh  sudh  sudh  sudh  sudh  sudh  sudh  sudh  sudh  sudh  sudh  sudh  \n",
      "sudh  sudh  sudh  sudh  sudh  sudh  sudh  sudh  sudh  sudh  sudh  sudh  sudh  \n",
      "sudh  sudh  sudh  sudh  sudh  sudh  sudh  sudh  sudh  sudh  sudh  sudh  sudh  sudh  \n",
      "sudh  sudh  sudh  sudh  sudh  sudh  sudh  sudh  sudh  sudh  sudh  sudh  sudh  sudh  sudh  \n",
      "sudh  sudh  sudh  sudh  sudh  sudh  sudh  sudh  sudh  sudh  sudh  sudh  sudh  sudh  sudh  sudh  \n",
      "sudh  sudh  sudh  sudh  sudh  sudh  sudh  sudh  sudh  sudh  sudh  sudh  sudh  sudh  sudh  sudh  sudh  \n",
      "sudh  sudh  sudh  sudh  sudh  sudh  sudh  sudh  sudh  sudh  sudh  sudh  sudh  sudh  sudh  sudh  sudh  sudh  \n",
      "sudh  sudh  sudh  sudh  sudh  sudh  sudh  sudh  sudh  sudh  sudh  sudh  sudh  sudh  sudh  sudh  sudh  sudh  sudh  \n",
      "sudh  sudh  sudh  sudh  sudh  sudh  sudh  sudh  sudh  sudh  sudh  sudh  sudh  sudh  sudh  sudh  sudh  sudh  sudh  sudh  \n"
     ]
    }
   ],
   "source": [
    "row = 20\n",
    "for i in range(1,row+1):\n",
    "    print(\"sudh  \"*i)\n"
   ]
  },
  {
   "cell_type": "code",
   "execution_count": 42,
   "metadata": {},
   "outputs": [
    {
     "data": {
      "text/plain": [
       "'sudhsudhsudhsudhsudhsudhsudhsudhsudhsudhsudhsudhsudhsudhsudhsudhsudhsudhsudhsudhsudhsudhsudhsudhsudhsudhsudhsudhsudhsudh'"
      ]
     },
     "execution_count": 42,
     "metadata": {},
     "output_type": "execute_result"
    }
   ],
   "source": [
    "\"sudh\" * 30"
   ]
  },
  {
   "cell_type": "code",
   "execution_count": 51,
   "metadata": {},
   "outputs": [
    {
     "name": "stdout",
     "output_type": "stream",
     "text": [
      "        * \n",
      "      * * * \n",
      "    * * * * * \n",
      "  * * * * * * * \n",
      "* * * * * * * * * \n"
     ]
    }
   ],
   "source": [
    "row  = 5\n",
    "for i in range(1,row+1):\n",
    "    print(\"  \"*( row - i) + \"* \" *(2*i -1))"
   ]
  },
  {
   "cell_type": "code",
   "execution_count": 52,
   "metadata": {},
   "outputs": [
    {
     "name": "stdout",
     "output_type": "stream",
     "text": [
      "        * \n",
      "      * * * \n",
      "    * * * * * \n",
      "  * * * * * * * \n",
      "* * * * * * * * * \n",
      "  * * * * * * * \n",
      "    * * * * * \n",
      "      * * * \n",
      "        * \n"
     ]
    }
   ],
   "source": [
    "row  = 5\n",
    "for i in range(1,row+1):\n",
    "    print(\"  \"*( row - i) + \"* \" *(2*i -1))\n",
    "\n",
    "for i in range(row-1 , 0,-1):\n",
    "    print(\"  \"*( row - i) + \"* \" *(2*i -1))"
   ]
  },
  {
   "cell_type": "code",
   "execution_count": 53,
   "metadata": {},
   "outputs": [
    {
     "data": {
      "text/plain": [
       "[4, 3, 2, 1]"
      ]
     },
     "execution_count": 53,
     "metadata": {},
     "output_type": "execute_result"
    }
   ],
   "source": [
    "list(range(row-1 , 0,-1))"
   ]
  },
  {
   "cell_type": "code",
   "execution_count": null,
   "metadata": {},
   "outputs": [],
   "source": [
    "While Loop Assignments\n",
    "\n",
    "Write a program to find the sum of digits of a given number using a while loop.\n",
    "Create a program that uses a while loop to reverse a number.\n",
    "Write a while loop program to find the largest digit in a number.\n",
    "Use a while loop to print all even numbers from 1 to n.\n",
    "Write a program using a while loop to repeatedly prompt a user to guess a randomly generated number until they guess correctly.\n",
    "Write a program using a while loop to calculate the sum of the first n natural numbers.\n",
    "Create a while loop to continuously prompt the user for input until they type \"exit\".\n",
    "Write a program using a while loop to check if a number is an Armstrong number.\n",
    "Create a countdown timer using a while loop, starting from a given number and ending at zero.\n",
    "Write a program using a while loop to find the LCM (Least Common Multiple) of two numbers.\n",
    "\n",
    "\n",
    "For Loop Assignments\n",
    "\n",
    "Write a program using a for loop to print the multiplication table of a given number.\n",
    "Create a program using a for loop to print all numbers divisible by 3 and 5 between 1 and n.\n",
    "Write a for loop to calculate the sum of squares of the first n natural numbers.\n",
    "Create a program using a for loop to find all prime numbers between 1 and n.\n",
    "Use a for loop to iterate through a list of strings and print their lengths.\n",
    "Write a program to find the second largest number in a list using a for loop.\n",
    "Create a program using nested for loops to print a right-angled triangle pattern of stars.\n",
    "Write a program to count how many numbers in a list are greater than a given threshold using a for loop.\n",
    "Create a program using a for loop to print the reverse of a list.\n",
    "Write a program using a for loop to find the sum of all odd numbers in a list.\n",
    "    \n",
    "sudhanshu@euron.one"
   ]
  }
 ],
 "metadata": {
  "kernelspec": {
   "display_name": "Python 3",
   "language": "python",
   "name": "python3"
  },
  "language_info": {
   "codemirror_mode": {
    "name": "ipython",
    "version": 3
   },
   "file_extension": ".py",
   "mimetype": "text/x-python",
   "name": "python",
   "nbconvert_exporter": "python",
   "pygments_lexer": "ipython3",
   "version": "3.12.1"
  }
 },
 "nbformat": 4,
 "nbformat_minor": 2
}
