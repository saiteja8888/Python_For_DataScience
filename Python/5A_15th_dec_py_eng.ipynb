{
 "cells": [
  {
   "cell_type": "code",
   "execution_count": null,
   "metadata": {},
   "outputs": [],
   "source": [
    "While Loop Assignments\n",
    "\n",
    "Write a program to find the sum of digits of a given number using a while loop.\n",
    "Create a program that uses a while loop to reverse a number.\n",
    "Write a while loop program to find the largest digit in a number.\n",
    "Use a while loop to print all even numbers from 1 to n.\n",
    "Write a program using a while loop to repeatedly prompt a user to guess a randomly generated number until they guess correctly.\n",
    "Write a program using a while loop to calculate the sum of the first n natural numbers.\n",
    "Create a while loop to continuously prompt the user for input until they type \"exit\".\n",
    "Write a program using a while loop to check if a number is an Armstrong number.\n",
    "Create a countdown timer using a while loop, starting from a given number and ending at zero.\n",
    "Write a program using a while loop to find the LCM (Least Common Multiple) of two numbers.\n",
    "\n",
    "\n",
    "For Loop Assignments\n",
    "\n",
    "Write a program using a for loop to print the multiplication table of a given number.\n",
    "Create a program using a for loop to print all numbers divisible by 3 and 5 between 1 and n.\n",
    "Write a for loop to calculate the sum of squares of the first n natural numbers.\n",
    "Create a program using a for loop to find all prime numbers between 1 and n.\n",
    "Use a for loop to iterate through a list of strings and print their lengths.\n",
    "Write a program to find the second largest number in a list using a for loop.\n",
    "Create a program using nested for loops to print a right-angled triangle pattern of stars.\n",
    "Write a program to count how many numbers in a list are greater than a given threshold using a for loop.\n",
    "Create a program using a for loop to print the reverse of a list.\n",
    "Write a program using a for loop to find the sum of all odd numbers in a list.\n",
    "    \n",
    "sudhanshu@euron.one"
   ]
  },
  {
   "cell_type": "markdown",
   "metadata": {},
   "source": [
    "#### While Loop Assignments"
   ]
  },
  {
   "cell_type": "code",
   "execution_count": 1,
   "metadata": {},
   "outputs": [
    {
     "name": "stdout",
     "output_type": "stream",
     "text": [
      "1234\n",
      "sum of the given number is, 10\n"
     ]
    }
   ],
   "source": [
    "# Write a program to find the sum of digits of a given number using a while loop.\n",
    "\n",
    "def sum_of_number(num):\n",
    "    global sum\n",
    "    try:\n",
    "        while num > 0:\n",
    "            temp = num%10\n",
    "            sum+=temp\n",
    "            num = num // 10\n",
    "    except Exception as e:\n",
    "        print(\"Exception occured,\",e)\n",
    "    return sum\n",
    "\n",
    "try:\n",
    "    number = int(input())\n",
    "    sum = 0\n",
    "    print(number)\n",
    "    print(\"sum of the given number is,\",sum_of_number(number))\n",
    "except Exception as e:\n",
    "    print(\"Exception occured,\",e)\n"
   ]
  },
  {
   "cell_type": "code",
   "execution_count": 2,
   "metadata": {},
   "outputs": [
    {
     "name": "stdout",
     "output_type": "stream",
     "text": [
      "12345\n",
      "reverse of the given number is, 54321\n"
     ]
    }
   ],
   "source": [
    "# Create a program that uses a while loop to reverse a number.\n",
    "\n",
    "def rev_of_number(num):\n",
    "    try:\n",
    "        global rev_num\n",
    "        i = 10 ** (len(str(number)) - 1)\n",
    "        while num > 0:\n",
    "            temp = num % 10\n",
    "            rev_num = rev_num + temp * i\n",
    "            i = i // 10\n",
    "            num = num // 10\n",
    "    except Exception as e:\n",
    "        print(\"Exception occured,\",e)\n",
    "    return rev_num\n",
    "\n",
    "try:\n",
    "    number = int(input())\n",
    "    rev_num = 0\n",
    "    print(number)\n",
    "    print(\"reverse of the given number is,\",rev_of_number(number))\n",
    "except Exception as e:\n",
    "    print(\"Exception occured,\",e)"
   ]
  },
  {
   "cell_type": "code",
   "execution_count": 3,
   "metadata": {},
   "outputs": [
    {
     "data": {
      "text/plain": [
       "4"
      ]
     },
     "execution_count": 3,
     "metadata": {},
     "output_type": "execute_result"
    }
   ],
   "source": [
    "# Write a while loop program to find the largest digit in a number.\n",
    "\n",
    "def largest_digit(number):\n",
    "    largest_number = 0\n",
    "    try:\n",
    "        while number > 0:\n",
    "            temp = number%10\n",
    "            if largest_number < temp:\n",
    "                largest_number = temp\n",
    "            number = number // 10\n",
    "    except Exception as e:\n",
    "        print(\"Exception occured,\",e)\n",
    "    return largest_number\n",
    "\n",
    "largest_digit(1234321)\n"
   ]
  },
  {
   "cell_type": "code",
   "execution_count": 4,
   "metadata": {},
   "outputs": [
    {
     "name": "stdout",
     "output_type": "stream",
     "text": [
      "2\n",
      "4\n",
      "6\n",
      "8\n",
      "10\n"
     ]
    }
   ],
   "source": [
    "# Use a while loop to print all even numbers from 1 to n.\n",
    "\n",
    "def print_even_1_to_n(n):\n",
    "    try:\n",
    "        i = 2\n",
    "        while n >= i:\n",
    "            print(i)\n",
    "            i = i + 2\n",
    "    except Exception as e:\n",
    "        print(\"Exception occured,\",e)\n",
    "\n",
    "print_even_1_to_n(10)\n"
   ]
  },
  {
   "cell_type": "code",
   "execution_count": 5,
   "metadata": {},
   "outputs": [
    {
     "name": "stdout",
     "output_type": "stream",
     "text": [
      "Entered number is 1\n",
      "Please try to guess the number again\n",
      "Entered number is 3\n",
      "Please try to guess the number again\n",
      "Entered number is 5\n",
      "Please try to guess the number again\n",
      "Entered number is 7\n",
      "Please try to guess the number again\n",
      "You guessed it right, it is 10\n"
     ]
    }
   ],
   "source": [
    "# Write a program using a while loop to repeatedly prompt a user to guess a randomly generated number until they guess correctly.\n",
    "\n",
    "def guess_random_number(random_number=10):\n",
    "    try:\n",
    "        while True:\n",
    "            input_number = int(input(\"Please try to guess the random number that has been generated\"))\n",
    "            if input_number == random_number:\n",
    "                print(\"You guessed it right, it is\",input_number)\n",
    "                break\n",
    "            else:\n",
    "                print(\"Entered number is\",input_number)\n",
    "                print(\"Please try to guess the number again\")\n",
    "    except Exception as e:\n",
    "        print(\"Exception occured,\",e)\n",
    "\n",
    "guess_random_number()\n",
    "\n"
   ]
  },
  {
   "cell_type": "code",
   "execution_count": 6,
   "metadata": {},
   "outputs": [
    {
     "data": {
      "text/plain": [
       "15"
      ]
     },
     "execution_count": 6,
     "metadata": {},
     "output_type": "execute_result"
    }
   ],
   "source": [
    "# Write a program using a while loop to calculate the sum of the first n natural numbers.\n",
    "\n",
    "def sum_of_n_natural_numbers(n):\n",
    "    try:\n",
    "        sum = 0\n",
    "        while n >0:\n",
    "            sum = sum + n\n",
    "            n = n-1\n",
    "    except Exception as e:\n",
    "        print(\"Exception occured,\",e)\n",
    "    return sum\n",
    "\n",
    "sum_of_n_natural_numbers(5)"
   ]
  },
  {
   "cell_type": "code",
   "execution_count": 7,
   "metadata": {},
   "outputs": [
    {
     "name": "stdout",
     "output_type": "stream",
     "text": [
      "provide the correct value to exit\n",
      "provide the correct value to exit\n",
      "provide the correct value to exit\n",
      "you have provided the correct value, you can exit now\n"
     ]
    }
   ],
   "source": [
    "# Create a while loop to continuously prompt the user for input until they type \"exit\".\n",
    "\n",
    "def continous_promt(key = \"exit\"):\n",
    "    try:\n",
    "        while True:\n",
    "            user_input = input(\"Please provide the input\")\n",
    "            if user_input == key:\n",
    "                print(\"you have provided the correct value, you can exit now\")\n",
    "                break\n",
    "            else:\n",
    "                print(\"provide the correct value to exit\")\n",
    "    except Exception as e:\n",
    "        print(\"Exception occured,\",e)\n",
    "\n",
    "continous_promt()"
   ]
  },
  {
   "cell_type": "code",
   "execution_count": 8,
   "metadata": {},
   "outputs": [
    {
     "name": "stdout",
     "output_type": "stream",
     "text": [
      "Given number is not an armstrong number\n",
      "Given number is an armstrong number\n"
     ]
    }
   ],
   "source": [
    "# Write a program using a while loop to check if a number is an Armstrong number.\n",
    "\n",
    "def armstrong_check(number):\n",
    "    try:\n",
    "        len_num = len(str(number))\n",
    "        sum = 0\n",
    "        num_cache = number\n",
    "        while number > 0:\n",
    "            temp = number%10\n",
    "            sum = sum + temp ** len_num\n",
    "            number = number // 10\n",
    "        else:\n",
    "            if num_cache == sum:\n",
    "                print(\"Given number is an armstrong number\")\n",
    "            else:\n",
    "                print(\"Given number is not an armstrong number\")\n",
    "    except Exception as e:\n",
    "        print(\"Exception occured,\",e)\n",
    "\n",
    "armstrong_check(100)\n",
    "armstrong_check(1634)"
   ]
  },
  {
   "cell_type": "code",
   "execution_count": 9,
   "metadata": {},
   "outputs": [
    {
     "name": "stdout",
     "output_type": "stream",
     "text": [
      "5\n",
      "4\n",
      "3\n",
      "2\n",
      "1\n",
      "Time is up\n"
     ]
    }
   ],
   "source": [
    "# Create a countdown timer using a while loop, starting from a given number and ending at zero.\n",
    "\n",
    "def timer(sec):\n",
    "    try:\n",
    "        while sec > 0:\n",
    "            print(sec)\n",
    "            sec = sec - 1\n",
    "        else:\n",
    "            print(\"Time is up\")\n",
    "    except Exception as e:\n",
    "        print(\"Exception occured,\",e)\n",
    "\n",
    "timer(5)\n"
   ]
  },
  {
   "cell_type": "code",
   "execution_count": 10,
   "metadata": {},
   "outputs": [
    {
     "name": "stdout",
     "output_type": "stream",
     "text": [
      "30\n",
      "60\n"
     ]
    }
   ],
   "source": [
    "# Write a program using a while loop to find the LCM (Least Common Multiple) of two numbers.\n",
    "\n",
    "def lcm(num1, num2):\n",
    "    try:\n",
    "        i = 2\n",
    "        lcm_sum = 1\n",
    "        while i <= num1 or i<=num2:\n",
    "            if num1%i == 0 and num2 % i == 0:\n",
    "                lcm_sum = lcm_sum * i \n",
    "            i = i + 1\n",
    "        return (num1 * num2)//lcm_sum\n",
    "    except Exception as e:\n",
    "        print(\"Exception occured,\",e)\n",
    "\n",
    "print(lcm(10,15))\n",
    "print(lcm(12,15))"
   ]
  },
  {
   "cell_type": "markdown",
   "metadata": {},
   "source": [
    "#### For Loop Assignments"
   ]
  },
  {
   "cell_type": "code",
   "execution_count": 11,
   "metadata": {},
   "outputs": [
    {
     "name": "stdout",
     "output_type": "stream",
     "text": [
      "10 x 1 = 10\n",
      "10 x 2 = 20\n",
      "10 x 3 = 30\n",
      "10 x 4 = 40\n",
      "10 x 5 = 50\n",
      "10 x 6 = 60\n",
      "10 x 7 = 70\n",
      "10 x 8 = 80\n",
      "10 x 9 = 90\n",
      "10 x 10 = 100\n"
     ]
    }
   ],
   "source": [
    "# Write a program using a for loop to print the multiplication table of a given number.\n",
    "\n",
    "def multiplication(number):\n",
    "    try:\n",
    "        for i in range(1,number+1):\n",
    "            print(f\"{number} x {i} = {number*i}\")\n",
    "    except Exception as e:\n",
    "        print(\"Exception occured,\",e)\n",
    "\n",
    "multiplication(10)\n"
   ]
  },
  {
   "cell_type": "code",
   "execution_count": 12,
   "metadata": {},
   "outputs": [
    {
     "name": "stdout",
     "output_type": "stream",
     "text": [
      "15 is divisible by both 3 and 5\n",
      "30 is divisible by both 3 and 5\n"
     ]
    }
   ],
   "source": [
    "# Create a program using a for loop to print all numbers divisible by 3 and 5 between 1 and n.\n",
    "\n",
    "def nums_divisible_by_3_n_5(number):\n",
    "    try:\n",
    "        for i in range(1, number+1):\n",
    "            if i % 3 == 0 and i % 5 == 0:\n",
    "                print(f\"{i} is divisible by both 3 and 5\")\n",
    "    except Exception as e:\n",
    "        print(\"Exception occured,\",e)\n",
    "\n",
    "nums_divisible_by_3_n_5(30)\n"
   ]
  },
  {
   "cell_type": "code",
   "execution_count": 13,
   "metadata": {},
   "outputs": [
    {
     "name": "stdout",
     "output_type": "stream",
     "text": [
      "14\n",
      "55\n"
     ]
    }
   ],
   "source": [
    "# Write a for loop to calculate the sum of squares of the first n natural numbers.\n",
    "\n",
    "def sum_of_squares(number):\n",
    "    try:\n",
    "        sum = 0\n",
    "        for i in range(1, number+1):\n",
    "            sum = sum + i **2\n",
    "        return sum\n",
    "    except Exception as e:\n",
    "        print(\"Exception occured,\",e)\n",
    "\n",
    "print(sum_of_squares(3))\n",
    "print(sum_of_squares(5))"
   ]
  },
  {
   "cell_type": "code",
   "execution_count": 14,
   "metadata": {},
   "outputs": [
    {
     "name": "stdout",
     "output_type": "stream",
     "text": [
      "The given number is not a prime number\n",
      "The given number is a prime number\n"
     ]
    }
   ],
   "source": [
    "# Create a program using a for loop to find all prime numbers between 1 and n.\n",
    "\n",
    "def find_prime_numbers(number):\n",
    "    try:\n",
    "        for i in range(2,number):\n",
    "            if number%i == 0:\n",
    "                print(\"The given number is not a prime number\")\n",
    "                break\n",
    "        else:\n",
    "            print(\"The given number is a prime number\")\n",
    "    except Exception as e:\n",
    "        print(\"Exception occured,\",e)\n",
    "\n",
    "find_prime_numbers(10)\n",
    "find_prime_numbers(13)\n"
   ]
  },
  {
   "cell_type": "code",
   "execution_count": 15,
   "metadata": {},
   "outputs": [
    {
     "name": "stdout",
     "output_type": "stream",
     "text": [
      "5\n",
      "5\n",
      "13\n"
     ]
    }
   ],
   "source": [
    "# Use a for loop to iterate through a list of strings and print their lengths.\n",
    "\n",
    "def iter_lists(user_list):\n",
    "    try:\n",
    "        for i in user_list:\n",
    "            print(len(i))\n",
    "    except Exception as e:\n",
    "        print(\"Exception occured,\",e)\n",
    "\n",
    "iter_lists([\"hello\", \"world\", \"coding is fun\"])\n"
   ]
  },
  {
   "cell_type": "code",
   "execution_count": 16,
   "metadata": {},
   "outputs": [
    {
     "name": "stdout",
     "output_type": "stream",
     "text": [
      "9\n"
     ]
    }
   ],
   "source": [
    "# Write a program to find the second largest number in a list using a for loop.\n",
    "\n",
    "def find_2nd_largest(num_list):\n",
    "    try:\n",
    "        first = 0\n",
    "        second = 0\n",
    "        for i in num_list:\n",
    "            if i > first:\n",
    "                second = first\n",
    "                first = i\n",
    "            elif i > second:\n",
    "                second = i  \n",
    "        return second\n",
    "    except Exception as e:\n",
    "        print(\"Exception occured,\",e)\n",
    "\n",
    "print(find_2nd_largest([1,4,62,1,5,6,9]))\n"
   ]
  },
  {
   "cell_type": "code",
   "execution_count": 17,
   "metadata": {},
   "outputs": [
    {
     "name": "stdout",
     "output_type": "stream",
     "text": [
      "*\n",
      "**\n",
      "***\n",
      "****\n",
      "*****\n"
     ]
    }
   ],
   "source": [
    "# Create a program using nested for loops to print a right-angled triangle pattern of stars.\n",
    "\n",
    "\n",
    "def pattern_triange(num_of_stars):\n",
    "    try:\n",
    "        for i in range(1,num_of_stars+1):\n",
    "            for j in range(1,i+1):\n",
    "                print(\"*\",end=\"\")\n",
    "            print(\"\")\n",
    "    except Exception as e:\n",
    "        print(\"Exception occured,\",e)\n",
    "\n",
    "pattern_triange(5)"
   ]
  },
  {
   "cell_type": "code",
   "execution_count": 18,
   "metadata": {},
   "outputs": [
    {
     "data": {
      "text/plain": [
       "3"
      ]
     },
     "execution_count": 18,
     "metadata": {},
     "output_type": "execute_result"
    }
   ],
   "source": [
    "# Write a program to count how many numbers in a list are greater than a given threshold using a for loop.\n",
    "\n",
    "def find_nums_greater_than_threashold(num_list, threshold):\n",
    "    try:\n",
    "        sum = 0\n",
    "        for i in num_list:\n",
    "            if i > threshold:\n",
    "                sum = sum + 1\n",
    "        return sum \n",
    "    except Exception as e:\n",
    "        print(\"Exception occured,\",e)\n",
    "\n",
    "find_nums_greater_than_threashold([1,2,3,4,5,6],3)"
   ]
  },
  {
   "cell_type": "code",
   "execution_count": 19,
   "metadata": {},
   "outputs": [
    {
     "name": "stdout",
     "output_type": "stream",
     "text": [
      "5, 4, 3, 2, 1, "
     ]
    }
   ],
   "source": [
    "# Create a program using a for loop to print the reverse of a list.\n",
    "\n",
    "def rev_list(num_list):\n",
    "    try:\n",
    "        for i in range(1,len(num_list)+1):\n",
    "            print(num_list[-i], end=\", \")\n",
    "    except Exception as e:\n",
    "        print(\"Exception occured,\",e)\n",
    "\n",
    "rev_list([1,2,3,4,5])\n"
   ]
  },
  {
   "cell_type": "code",
   "execution_count": 20,
   "metadata": {},
   "outputs": [
    {
     "data": {
      "text/plain": [
       "36"
      ]
     },
     "execution_count": 20,
     "metadata": {},
     "output_type": "execute_result"
    }
   ],
   "source": [
    "# Write a program using a for loop to find the sum of all odd numbers in a list.\n",
    "\n",
    "def sum_of_odd_numbers(num):\n",
    "    try:\n",
    "        sum = 0\n",
    "        for i in range(1,num+1):\n",
    "            if i % 2 != 0:\n",
    "                sum += i \n",
    "        return sum \n",
    "    except Exception as e:\n",
    "        print(\"Exception occured,\",e)\n",
    "\n",
    "sum_of_odd_numbers(11)\n"
   ]
  }
 ],
 "metadata": {
  "kernelspec": {
   "display_name": "Python 3",
   "language": "python",
   "name": "python3"
  },
  "language_info": {
   "codemirror_mode": {
    "name": "ipython",
    "version": 3
   },
   "file_extension": ".py",
   "mimetype": "text/x-python",
   "name": "python",
   "nbconvert_exporter": "python",
   "pygments_lexer": "ipython3",
   "version": "3.12.8"
  }
 },
 "nbformat": 4,
 "nbformat_minor": 2
}
