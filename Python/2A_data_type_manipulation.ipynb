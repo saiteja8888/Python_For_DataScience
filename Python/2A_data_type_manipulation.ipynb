{
 "cells": [
  {
   "cell_type": "code",
   "execution_count": null,
   "metadata": {},
   "outputs": [],
   "source": [
    "s = \"sudhanshu\"\n",
    "l = [4,5,6,7,88,98,9,0,0,0]\n",
    "Access the first, middle, and last element of a list using indexing.\n",
    "Reverse a list using slicing.\n",
    "Write a program to extract every alternate element from a list.\n",
    "Replace the 2nd and 4th elements of a list with new values.\n",
    "Slice a list to create a sublist containing only the last 3 elements.\n",
    "Write a program to remove the element at the 5th index of a list using slicing and concatenation.\n",
    "Create a new list that contains only the elements at odd indices of an existing list.\n",
    "Split a list into two halves using slicing.\n",
    "Concatenate two lists using slicing and addition.\n",
    "Replace a specific range of indices in a list with a new sublist."
   ]
  },
  {
   "cell_type": "code",
   "execution_count": 1,
   "metadata": {},
   "outputs": [],
   "source": [
    "s = \"sudhanshu\"\n",
    "l = [4,5,6,7,88,98,9,0,0,0]"
   ]
  },
  {
   "cell_type": "code",
   "execution_count": 2,
   "metadata": {},
   "outputs": [
    {
     "name": "stdout",
     "output_type": "stream",
     "text": [
      "4\n",
      "0\n",
      "middle element = 5\n",
      "98\n"
     ]
    }
   ],
   "source": [
    "# Access the first, middle, and last element of a list using indexing.\n",
    "\n",
    "# first element \n",
    "print(l[0])\n",
    "\n",
    "# last element\n",
    "print(l[-1])\n",
    "\n",
    "# middle element\n",
    "len_list = len(l)\n",
    "middle_element = round(len_list/2)\n",
    "print(\"middle element =\", middle_element)\n",
    "\n",
    "# middle element\n",
    "print(l[middle_element])"
   ]
  },
  {
   "cell_type": "code",
   "execution_count": 3,
   "metadata": {},
   "outputs": [
    {
     "name": "stdout",
     "output_type": "stream",
     "text": [
      "[0, 0, 0, 9, 98, 88, 7, 6, 5, 4]\n"
     ]
    }
   ],
   "source": [
    "# Reverse a list using slicing.\n",
    "\n",
    "print(l[::-1])"
   ]
  },
  {
   "cell_type": "code",
   "execution_count": 4,
   "metadata": {},
   "outputs": [
    {
     "name": "stdout",
     "output_type": "stream",
     "text": [
      "[4, 6, 88, 9, 0]\n"
     ]
    }
   ],
   "source": [
    "# Write a program to extract every alternate element from a list.\n",
    "\n",
    "print(l[::2])"
   ]
  },
  {
   "cell_type": "code",
   "execution_count": 5,
   "metadata": {},
   "outputs": [
    {
     "name": "stdout",
     "output_type": "stream",
     "text": [
      "[4, 5, 6, 7, 88, 98, 9, 0, 0, 0]\n",
      "[4, 5, 2, 7, 4, 98, 9, 0, 0, 0]\n"
     ]
    }
   ],
   "source": [
    "# Replace the 2nd and 4th elements of a list with new values.\n",
    "\n",
    "print(l)\n",
    "\n",
    "l[2] = 2\n",
    "l[4] = 4\n",
    "\n",
    "print(l)"
   ]
  },
  {
   "cell_type": "code",
   "execution_count": 6,
   "metadata": {},
   "outputs": [
    {
     "name": "stdout",
     "output_type": "stream",
     "text": [
      "[4, 5, 2, 7, 4, 98, 9, 0, 0, 0]\n",
      "[0, 0, 0]\n"
     ]
    }
   ],
   "source": [
    "# Slice a list to create a sublist containing only the last 3 elements.\n",
    "\n",
    "print(l)\n",
    "sub_list = l[-1:-4:-1]\n",
    "print(sub_list)"
   ]
  },
  {
   "cell_type": "code",
   "execution_count": 7,
   "metadata": {},
   "outputs": [
    {
     "name": "stdout",
     "output_type": "stream",
     "text": [
      "[4, 5, 2, 7, 4, 98, 9, 0, 0, 0]\n",
      "[4, 5, 2, 7, 4, 9, 0, 0, 0]\n"
     ]
    }
   ],
   "source": [
    "# Write a program to remove the element at the 5th index of a list using slicing and concatenation.\n",
    "\n",
    "print(l)\n",
    "\n",
    "l1 = l[:5]\n",
    "l2 = l[6:]\n",
    "l3 = l1 + l2 \n",
    "\n",
    "print(l3)"
   ]
  },
  {
   "cell_type": "code",
   "execution_count": 8,
   "metadata": {},
   "outputs": [
    {
     "name": "stdout",
     "output_type": "stream",
     "text": [
      "[4, 5, 2, 7, 4, 98, 9, 0, 0, 0]\n",
      "[4, 2, 4, 9, 0]\n"
     ]
    }
   ],
   "source": [
    "# Create a new list that contains only the elements at odd indices of an existing list.\n",
    "\n",
    "print(l)\n",
    "\n",
    "odd_list = l[::2]\n",
    "\n",
    "print(odd_list)"
   ]
  },
  {
   "cell_type": "code",
   "execution_count": 9,
   "metadata": {},
   "outputs": [
    {
     "name": "stdout",
     "output_type": "stream",
     "text": [
      "[4, 5, 2, 7, 4, 98, 9, 0, 0, 0]\n",
      "[4, 5, 2, 7, 4]\n",
      "[98, 9, 0, 0, 0]\n"
     ]
    }
   ],
   "source": [
    "# Split a list into two halves using slicing.\n",
    "\n",
    "print(l)\n",
    "\n",
    "middle_index = round(len(l)/2)\n",
    "\n",
    "l1 = l[:middle_index]\n",
    "l2 = l[middle_element:]\n",
    "\n",
    "print(l1)\n",
    "print(l2)"
   ]
  },
  {
   "cell_type": "code",
   "execution_count": 10,
   "metadata": {},
   "outputs": [
    {
     "name": "stdout",
     "output_type": "stream",
     "text": [
      "[4, 5, 2, 7, 4, 98, 9, 0, 0, 0]\n",
      "[4, 5, 2, 7, 4]\n",
      "[98, 9, 0, 0, 0]\n",
      "[4, 5, 2, 7, 4, 98, 9, 0, 0, 0]\n"
     ]
    }
   ],
   "source": [
    "# Concatenate two lists using slicing and addition.\n",
    "\n",
    "print(l)\n",
    "\n",
    "middle_index = round(len(l)/2)\n",
    "\n",
    "l1 = l[:middle_index]\n",
    "l2 = l[middle_element:]\n",
    "\n",
    "print(l1)\n",
    "print(l2)\n",
    "\n",
    "l3 = l1 + l2\n",
    "print(l3)"
   ]
  },
  {
   "cell_type": "code",
   "execution_count": 12,
   "metadata": {},
   "outputs": [
    {
     "name": "stdout",
     "output_type": "stream",
     "text": [
      "[4, 5, 2, 7, 4, 98, 9, 0, 0, 0]\n",
      "[4, 1, 1, 1, 4, 98, 9, 0, 0, 0]\n"
     ]
    }
   ],
   "source": [
    "# Replace a specific range of indices in a list with a new sublist.\n",
    "\n",
    "print(l)\n",
    "\n",
    "l[1:4] = [1,1,1]\n",
    "\n",
    "print(l)"
   ]
  }
 ],
 "metadata": {
  "kernelspec": {
   "display_name": "Python 3",
   "language": "python",
   "name": "python3"
  },
  "language_info": {
   "codemirror_mode": {
    "name": "ipython",
    "version": 3
   },
   "file_extension": ".py",
   "mimetype": "text/x-python",
   "name": "python",
   "nbconvert_exporter": "python",
   "pygments_lexer": "ipython3",
   "version": "3.12.8"
  }
 },
 "nbformat": 4,
 "nbformat_minor": 2
}
