{
 "cells": [
  {
   "cell_type": "code",
   "execution_count": 2,
   "metadata": {},
   "outputs": [],
   "source": [
    "def euron_course(course,mentor , price):\n",
    "    print(course,mentor,price)"
   ]
  },
  {
   "cell_type": "code",
   "execution_count": 4,
   "metadata": {},
   "outputs": [],
   "source": [
    "class euron:\n",
    "    pass"
   ]
  },
  {
   "cell_type": "code",
   "execution_count": 5,
   "metadata": {},
   "outputs": [
    {
     "data": {
      "text/plain": [
       "2000"
      ]
     },
     "execution_count": 5,
     "metadata": {},
     "output_type": "execute_result"
    }
   ],
   "source": [
    "class euron_course:\n",
    "    def __init__(self,course_name , course_mentor,course_price):\n",
    "        self.course_name = course_name\n",
    "        self.course_mentor = course_mentor\n",
    "        self.course_price = course_price\n",
    "        \n",
    "e1 = euron_course(\"python\" , \"sudhanshu\" , 2000)\n",
    "e1.course_price\n",
    "\n",
    "e2 = euron_course(\"data analysis\" , \"imran\",2000)"
   ]
  },
  {
   "cell_type": "code",
   "execution_count": 6,
   "metadata": {},
   "outputs": [],
   "source": [
    "class euron_course:\n",
    "    def __init__(self,course_name , course_mentor,course_price):\n",
    "        self.course_name = course_name\n",
    "        self.course_mentor = course_mentor\n",
    "        self.course_price = course_price\n",
    "        \n",
    "    def display_course(self):\n",
    "        print(f\"Course Name: {self.course_name}, Course Mentor: {self.course_mentor}, Course Price: {self.course_price}\")\n",
    "        \n",
    "        \n",
    "    def update_price(self, new_price):\n",
    "        self.course_price = new_price\n",
    "        print(f\"Course Price updated to: {self.course_price}\")\n",
    "    \n",
    "    def enroll_student(self, student_name):\n",
    "        print(f\"{student_name} has enrolled in {self.course_name}\")"
   ]
  },
  {
   "cell_type": "code",
   "execution_count": 7,
   "metadata": {},
   "outputs": [],
   "source": [
    "pro_course1 = euron_course(\"python\" ,\"sudhanshu\" , 2000)\n",
    "pro_course2 = euron_course(\"java\" ,\"sudhanshu\" , 2000)\n",
    "prog_course3 = euron_course(\"bug data\" ,\"sudhanshu\" , 3453)\n"
   ]
  },
  {
   "cell_type": "code",
   "execution_count": 9,
   "metadata": {},
   "outputs": [
    {
     "data": {
      "text/plain": [
       "'sudhanshu'"
      ]
     },
     "execution_count": 9,
     "metadata": {},
     "output_type": "execute_result"
    }
   ],
   "source": [
    "pro_course1.course_mentor"
   ]
  },
  {
   "cell_type": "code",
   "execution_count": 16,
   "metadata": {},
   "outputs": [],
   "source": [
    "class euron_course:\n",
    "    def __init__(self,course_name , course_mentor,course_price):\n",
    "        self.course_name = course_name\n",
    "        self.course_mentor = course_mentor\n",
    "        self.__course_price = course_price\n",
    "        \n",
    "    def display_course(self):\n",
    "        print(f\"Course Name: {self.course_name}, Course Mentor: {self.course_mentor}, Course Price: {self.course_price}\")\n",
    "        \n",
    "        \n",
    "    def update_price(self, new_price):\n",
    "        self.course_price = new_price\n",
    "        print(f\"Course Price updated to: {self.course_price}\")\n",
    "    \n",
    "    def enroll_student(self, student_name):\n",
    "        print(f\"{student_name} has enrolled in {self.course_name}\")\n",
    "        \n",
    "    def get_prices(self):\n",
    "        return self.__course_price\n",
    "    \n",
    "    "
   ]
  },
  {
   "cell_type": "code",
   "execution_count": 17,
   "metadata": {},
   "outputs": [
    {
     "data": {
      "text/plain": [
       "3453"
      ]
     },
     "execution_count": 17,
     "metadata": {},
     "output_type": "execute_result"
    }
   ],
   "source": [
    "prog_course3 = euron_course(\"bug data\" ,\"sudhanshu\" , 3453)\n",
    "prog_course3.course_mentor\n",
    "prog_course3.course_name\n",
    "prog_course3.get_prices()"
   ]
  },
  {
   "cell_type": "code",
   "execution_count": 25,
   "metadata": {},
   "outputs": [],
   "source": [
    "class euron :\n",
    "    def __init__(self, course_name, course_mentor, course_price):\n",
    "        self.course_name = course_name\n",
    "        self.course_mentor = course_mentor\n",
    "        self.course_price = course_price\n",
    "        \n",
    "    def display_course(self):\n",
    "        print(f\"Course Name: {self.course_name}, Course Mentor: {self.course_mentor}, Course Price: {self.course_price}\")\n",
    "        \n",
    "class euron_course(euron):\n",
    "    def __init__(self, course_name, course_mentor, course_price, course_duration):\n",
    "        super().__init__(course_name, course_mentor, course_price)\n",
    "        self.course_duration = course_duration\n",
    "        "
   ]
  },
  {
   "cell_type": "code",
   "execution_count": 26,
   "metadata": {},
   "outputs": [
    {
     "name": "stdout",
     "output_type": "stream",
     "text": [
      "Course Name: python, Course Mentor: sudhanshu, Course Price: 354\n"
     ]
    }
   ],
   "source": [
    "e1 = euron_course(\"python\" , \"sudhanshu\",354, 4)\n",
    "e1.display_course()"
   ]
  },
  {
   "cell_type": "code",
   "execution_count": 27,
   "metadata": {},
   "outputs": [],
   "source": [
    "class euronmentor:\n",
    "    def teach(self):\n",
    "        print(\"mentor teaching\")\n",
    "        \n",
    "class python_mentor(euronmentor):\n",
    "    def teach(self):\n",
    "        print(\"mentor teaching python\")\n",
    "        \n",
    "        \n",
    "class java_mentor(euronmentor):\n",
    "    def teach(self):\n",
    "        print(\"mentor takinig java class\")\n"
   ]
  },
  {
   "cell_type": "code",
   "execution_count": null,
   "metadata": {},
   "outputs": [],
   "source": []
  }
 ],
 "metadata": {
  "kernelspec": {
   "display_name": "Python 3",
   "language": "python",
   "name": "python3"
  },
  "language_info": {
   "codemirror_mode": {
    "name": "ipython",
    "version": 3
   },
   "file_extension": ".py",
   "mimetype": "text/x-python",
   "name": "python",
   "nbconvert_exporter": "python",
   "pygments_lexer": "ipython3",
   "version": "3.8.20"
  }
 },
 "nbformat": 4,
 "nbformat_minor": 2
}
