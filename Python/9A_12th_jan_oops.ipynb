{
 "cells": [
  {
   "cell_type": "code",
   "execution_count": null,
   "metadata": {},
   "outputs": [],
   "source": [
    "Assignment Questions for Euron on Object-Oriented Programming and Advanced Python Topics\n",
    "Section 1: Class Basics\n",
    "Defining Classes\n",
    "Create a class called Course with attributes: course_id, course_name, and instructor_name. Add a method to display the course details.\n",
    "Create another class called Student with attributes: student_id, name, and enrolled_courses (a list). Add a method to enroll a student in a course.\n",
    "\n",
    "Section 2: Instance Variables and Methods\n",
    "Working with Instance Variables\n",
    "Define a class Subscription with instance variables user_name, subscription_type, and price. Write methods to:\n",
    "Display the subscription details.\n",
    "Upgrade the subscription type to a higher plan and update the price accordingly.\n",
    "\n",
    "Section 3: Constructors and Destructors\n",
    "Using __init__ and __del__\n",
    "Implement a class DatabaseConnection to simulate connecting to a database. Use:\n",
    "__init__ to initialize the connection and print \"Connected to the database.\"\n",
    "__del__ to print \"Disconnected from the database.\"\n",
    "\n",
    "Section 4: Inheritance and Polymorphism\n",
    "Using Inheritance\n",
    "Create a base class User with attributes user_id and name. Add a method show_user_details.\n",
    "Derive two subclasses: Student and Teacher. Add specific attributes and override the show_user_details method for both.\n",
    "Polymorphism\n",
    "Write a function show_details(entity) that takes an instance of either Student or Teacher and calls the appropriate show_user_details method.\n",
    "\n",
    "Section 5: Encapsulation and Abstraction\n",
    "Encapsulation\n",
    "Implement a class Payment with private attributes _card_number and _cvv. Add methods to:\n",
    "Set and get card details securely.\n",
    "Validate the CVV.\n",
    "Abstraction\n",
    "Define an abstract base class CourseContent with methods get_details() and get_duration(). Create two subclasses VideoCourse and Ebook to implement these methods.\n",
    "\n",
    "Section 6: Advanced OOP Concepts\n",
    "Magic Methods\n",
    "Overloading Magic Methods\n",
    "Create a class CartItem with attributes name, price, and quantity. Overload:\n",
    "__str__ to return a string representation of the item.\n",
    "__add__ to allow addition of two CartItem objects, combining their quantities.\n",
    "Abstract Base Classes\n",
    "Using Abstract Base Classes\n",
    "Create an abstract base class SubscriptionPlan with methods get_price() and get_duration(). Implement two subclasses MonthlyPlan and YearlyPlan with appropriate logic.\n",
    "Property Decorators\n",
    "Using Property Decorators\n",
    "Create a class Subscription with attributes _plan and _price. Use:\n",
    "@property to access _plan and _price.\n",
    "@setter to set _plan and update _price based on the plan.\n",
    "\n",
    "Section 7: Iterators and Generators\n",
    "Creating Iterators\n",
    "Custom Iterators\n",
    "Implement an iterator class CourseIterator that takes a list of courses and iterates over them one by one.\n",
    "Generators and Using yield\n",
    "Using Generators\n",
    "Write a generator function fibonacci_sequence(n) to yield the Fibonacci sequence up to n terms. Test it using a loop.\n",
    "Lazy Evaluation\n",
    "Lazy Evaluation Example\n",
    "Implement a generator function read_large_file(file_path) to read a large file lazily, one line at a time. Use this function to count the number of lines in the file.\n",
    "\n",
    "\n",
    "\n",
    "sudhanshu@euron.one"
   ]
  },
  {
   "cell_type": "markdown",
   "metadata": {},
   "source": [
    "#### Section 1\n",
    "##### Class Basics\n",
    "##### Defining Classes"
   ]
  },
  {
   "cell_type": "code",
   "execution_count": 118,
   "metadata": {},
   "outputs": [],
   "source": [
    "# Create a class called Course with attributes: course_id, course_name, and instructor_name. Add a method to display the course details.\n",
    "\n",
    "class Course:\n",
    "    def __init__(self,course_id, course_name, instructor_name):\n",
    "        try:\n",
    "            self.course_id = course_id\n",
    "            self.course_name = course_name\n",
    "            self.instructor_name = instructor_name\n",
    "        except Exception as e:\n",
    "            print(\"Exception occured,\",e)\n",
    "                   \n",
    "\n",
    "    def display_courses(self):\n",
    "        try:\n",
    "            return f\"course_id: {self.course_id}, course_name: {self.course_name}, instructor_name: {self.instructor_name}\"\n",
    "        except Exception as e:\n",
    "            print(\"Exception occured,\",e)"
   ]
  },
  {
   "cell_type": "code",
   "execution_count": 119,
   "metadata": {},
   "outputs": [],
   "source": [
    "obj1 = Course(100, \"Python\", \"Sudanshu Kumar\")"
   ]
  },
  {
   "cell_type": "code",
   "execution_count": 120,
   "metadata": {},
   "outputs": [
    {
     "data": {
      "text/plain": [
       "'course_id: 100, course_name: Python, instructor_name: Sudanshu Kumar'"
      ]
     },
     "execution_count": 120,
     "metadata": {},
     "output_type": "execute_result"
    }
   ],
   "source": [
    "obj1.display_courses()"
   ]
  },
  {
   "cell_type": "code",
   "execution_count": 121,
   "metadata": {},
   "outputs": [],
   "source": [
    "# Create another class called Student with attributes: student_id, name, and enrolled_courses (a list). Add a method to enroll a student in a course.\n",
    "\n",
    "class Student:\n",
    "    def __init__(self, student_id, student_name):\n",
    "        try:\n",
    "            self.student_id = student_id\n",
    "            self.student_name = student_name\n",
    "            self.enrolled_courses = []\n",
    "        except Exception as e:\n",
    "            print(\"Exception occured,\",e)\n",
    "\n",
    "    def enroll_course(self, course_name):\n",
    "        try:\n",
    "            self.enrolled_courses.append(course_name)\n",
    "        except Exception as e:\n",
    "            print(\"Exception occured,\",e)"
   ]
  },
  {
   "cell_type": "code",
   "execution_count": 122,
   "metadata": {},
   "outputs": [],
   "source": [
    "stu1 = Student(201, \"saiteja\")"
   ]
  },
  {
   "cell_type": "code",
   "execution_count": 123,
   "metadata": {},
   "outputs": [
    {
     "data": {
      "text/plain": [
       "[]"
      ]
     },
     "execution_count": 123,
     "metadata": {},
     "output_type": "execute_result"
    }
   ],
   "source": [
    "stu1.enrolled_courses"
   ]
  },
  {
   "cell_type": "code",
   "execution_count": 124,
   "metadata": {},
   "outputs": [],
   "source": [
    "stu1.enroll_course(\"Python\")"
   ]
  },
  {
   "cell_type": "code",
   "execution_count": 125,
   "metadata": {},
   "outputs": [
    {
     "data": {
      "text/plain": [
       "['Python']"
      ]
     },
     "execution_count": 125,
     "metadata": {},
     "output_type": "execute_result"
    }
   ],
   "source": [
    "stu1.enrolled_courses"
   ]
  },
  {
   "cell_type": "markdown",
   "metadata": {},
   "source": [
    "#### Section 2\n",
    "##### Instance Variables and Methods\n",
    "##### Working with Instance Variables"
   ]
  },
  {
   "cell_type": "code",
   "execution_count": null,
   "metadata": {},
   "outputs": [],
   "source": [
    "Define a class Subscription with instance variables user_name, subscription_type, and price. Write methods to:\n",
    "Display the subscription details.\n",
    "Upgrade the subscription type to a higher plan and update the price accordingly."
   ]
  },
  {
   "cell_type": "code",
   "execution_count": 126,
   "metadata": {},
   "outputs": [],
   "source": [
    "class Subscription:\n",
    "    def __init__(self, user_name, subscrption_type, price):\n",
    "        try:\n",
    "            self.user_name = user_name\n",
    "            self.subscrption_type = subscrption_type\n",
    "            self.price = price\n",
    "        except Exception as e:\n",
    "            print(\"Exception occured,\",e)\n",
    "\n",
    "    def get_subscription_details(self):\n",
    "        try:\n",
    "            return f\"subscription_type: {self.subscrption_type}, price:{self.price}\"\n",
    "        except Exception as e:\n",
    "            print(\"Exception occured,\",e)\n",
    "    \n",
    "    def upgrade_subscription(self, subscription_type, price):\n",
    "        try:\n",
    "            self.subscrption_type = subscription_type\n",
    "            self.price = price\n",
    "        except Exception as e:\n",
    "            print(\"Exception occured,\",e)"
   ]
  },
  {
   "cell_type": "code",
   "execution_count": 127,
   "metadata": {},
   "outputs": [],
   "source": [
    "sub1 = Subscription(\"saiteja\", \"free\", 0)"
   ]
  },
  {
   "cell_type": "code",
   "execution_count": 128,
   "metadata": {},
   "outputs": [
    {
     "data": {
      "text/plain": [
       "'subscription_type: free, price:0'"
      ]
     },
     "execution_count": 128,
     "metadata": {},
     "output_type": "execute_result"
    }
   ],
   "source": [
    "sub1.get_subscription_details()"
   ]
  },
  {
   "cell_type": "code",
   "execution_count": 129,
   "metadata": {},
   "outputs": [],
   "source": [
    "sub1.upgrade_subscription(\"full_access\", 2000)"
   ]
  },
  {
   "cell_type": "code",
   "execution_count": 130,
   "metadata": {},
   "outputs": [
    {
     "data": {
      "text/plain": [
       "'subscription_type: full_access, price:2000'"
      ]
     },
     "execution_count": 130,
     "metadata": {},
     "output_type": "execute_result"
    }
   ],
   "source": [
    "sub1.get_subscription_details()"
   ]
  },
  {
   "cell_type": "markdown",
   "metadata": {},
   "source": [
    "#### Section 3\n",
    "##### Constructors and Destructors\n",
    "##### Using __init__ and __del__"
   ]
  },
  {
   "cell_type": "code",
   "execution_count": null,
   "metadata": {},
   "outputs": [],
   "source": [
    "Implement a class DatabaseConnection to simulate connecting to a database. Use:\n",
    "__init__ to initialize the connection and print \"Connected to the database.\"\n",
    "__del__ to print \"Disconnected from the database.\""
   ]
  },
  {
   "cell_type": "code",
   "execution_count": 131,
   "metadata": {},
   "outputs": [],
   "source": [
    "\n",
    "class DatabaseConnection:\n",
    "    def __init__(self, host, user_name, user_password, database_name):\n",
    "        try:\n",
    "            self.host = host\n",
    "            self.user_name = user_name\n",
    "            self.user_password = user_password\n",
    "            self.database_name = database_name\n",
    "            self.connection = \"\"\"pymysql.connect(\n",
    "                            host=self.host,\n",
    "                            user=self.user_name,\n",
    "                            password=self.user_password,\n",
    "                            database=self.database_name)\"\"\"\n",
    "            self.cursor = \"connection.cursor()\"\n",
    "            print(\"connection has establised successfully, you can use the cursor to execute the queries\")\n",
    "        except Exception as e:\n",
    "            print(\"Exception occured,\",e)\n",
    "\n",
    "    def __del__(self):\n",
    "        try:\n",
    "            self.connection = \"self.connection.commit()\"\n",
    "            self.cursor = \"self.cursor.close()\"\n",
    "            print(\"connection has closed\")\n",
    "        except Exception as e:\n",
    "            print(\"Exception occured,\",e)\n",
    "    \n",
    "    "
   ]
  },
  {
   "cell_type": "code",
   "execution_count": 132,
   "metadata": {},
   "outputs": [
    {
     "name": "stdout",
     "output_type": "stream",
     "text": [
      "connection has establised successfully, you can use the cursor to execute the queries\n"
     ]
    }
   ],
   "source": [
    "db1 = DatabaseConnection(\"127.0.0.1\", \"saiteja\", \"password\", \"hello_world\")"
   ]
  },
  {
   "cell_type": "code",
   "execution_count": 133,
   "metadata": {},
   "outputs": [
    {
     "name": "stdout",
     "output_type": "stream",
     "text": [
      "connection has closed\n"
     ]
    }
   ],
   "source": [
    "del(db1)"
   ]
  },
  {
   "cell_type": "markdown",
   "metadata": {},
   "source": [
    "#### Section 4 \n",
    "##### Inheritance and Polymorphism"
   ]
  },
  {
   "cell_type": "code",
   "execution_count": null,
   "metadata": {},
   "outputs": [],
   "source": [
    "Using Inheritance\n",
    "Create a base class User with attributes user_id and name. Add a method show_user_details.\n",
    "Derive two subclasses: Student and Teacher. Add specific attributes and override the show_user_details method for both.\n",
    "Polymorphism\n",
    "Write a function show_details(entity) that takes an instance of either Student or Teacher and calls the appropriate show_user_details method."
   ]
  },
  {
   "cell_type": "code",
   "execution_count": 134,
   "metadata": {},
   "outputs": [],
   "source": [
    "class User:\n",
    "    def __init__(self, user_id, name):\n",
    "        try:\n",
    "            self.user_id = user_id\n",
    "            self.name = name\n",
    "        except Exception as e:\n",
    "            print(\"Exception occured,\",e)\n",
    "\n",
    "    def show_user_details(self):\n",
    "        try:\n",
    "            return f\"user_id: {self.user_id}, name:{self.name}\"\n",
    "        except Exception as e:\n",
    "            print(\"Exception occured,\",e)"
   ]
  },
  {
   "cell_type": "code",
   "execution_count": 135,
   "metadata": {},
   "outputs": [],
   "source": [
    "user1 = User(1, \"saiteja\")"
   ]
  },
  {
   "cell_type": "code",
   "execution_count": 136,
   "metadata": {},
   "outputs": [
    {
     "data": {
      "text/plain": [
       "'user_id: 1, name:saiteja'"
      ]
     },
     "execution_count": 136,
     "metadata": {},
     "output_type": "execute_result"
    }
   ],
   "source": [
    "user1.show_user_details()"
   ]
  },
  {
   "cell_type": "code",
   "execution_count": 137,
   "metadata": {},
   "outputs": [],
   "source": [
    "class Student(User):\n",
    "    def __init__(self,student_id, student_name):\n",
    "        try:\n",
    "            self.student_id = student_id\n",
    "            self.student_name = student_name\n",
    "        except Exception as e:\n",
    "            print(\"Exception occured,\",e)\n",
    "\n",
    "    def show_user_details(self):\n",
    "        try:\n",
    "            return f\"student_id: {self.student_id}, student_name:{self.student_name}\"\n",
    "        except Exception as e:\n",
    "            print(\"Exception occured,\",e)\n",
    "    \n",
    "class Teacher(User):\n",
    "    def __init__(self, teacher_id, teacher_name):\n",
    "        try:\n",
    "            self.teacher_id = teacher_id\n",
    "            self.teacher_name = teacher_name\n",
    "        except Exception as e:\n",
    "            print(\"Exception occured,\",e)\n",
    "\n",
    "    def show_user_details(self):\n",
    "        try:\n",
    "            return f\"teacher_id: {self.teacher_id}, teacher_name:{self.teacher_name}\"\n",
    "        except Exception as e:\n",
    "            print(\"Exception occured,\",e)\n",
    "    \n",
    "    "
   ]
  },
  {
   "cell_type": "code",
   "execution_count": 138,
   "metadata": {},
   "outputs": [],
   "source": [
    "stu1 = Student(100, \"abc\")\n",
    "tea1 = Teacher(200, \"def\")"
   ]
  },
  {
   "cell_type": "code",
   "execution_count": 139,
   "metadata": {},
   "outputs": [
    {
     "data": {
      "text/plain": [
       "'student_id: 100, student_name:abc'"
      ]
     },
     "execution_count": 139,
     "metadata": {},
     "output_type": "execute_result"
    }
   ],
   "source": [
    "stu1.show_user_details()"
   ]
  },
  {
   "cell_type": "code",
   "execution_count": 140,
   "metadata": {},
   "outputs": [
    {
     "data": {
      "text/plain": [
       "'teacher_id: 200, teacher_name:def'"
      ]
     },
     "execution_count": 140,
     "metadata": {},
     "output_type": "execute_result"
    }
   ],
   "source": [
    "tea1.show_user_details()"
   ]
  },
  {
   "cell_type": "code",
   "execution_count": 141,
   "metadata": {},
   "outputs": [],
   "source": [
    "# Write a function show_details(entity) that takes an instance of either Student or Teacher and calls the appropriate show_user_details method."
   ]
  },
  {
   "cell_type": "code",
   "execution_count": 142,
   "metadata": {},
   "outputs": [],
   "source": [
    "def show_details(obj):\n",
    "    try:\n",
    "        print(obj.show_user_details())\n",
    "    except Exception as e:\n",
    "        print(\"Exception occured,\",e)"
   ]
  },
  {
   "cell_type": "code",
   "execution_count": 143,
   "metadata": {},
   "outputs": [
    {
     "name": "stdout",
     "output_type": "stream",
     "text": [
      "student_id: 100, student_name:abc\n"
     ]
    }
   ],
   "source": [
    "show_details(stu1)"
   ]
  },
  {
   "cell_type": "code",
   "execution_count": 144,
   "metadata": {},
   "outputs": [
    {
     "name": "stdout",
     "output_type": "stream",
     "text": [
      "teacher_id: 200, teacher_name:def\n"
     ]
    }
   ],
   "source": [
    "show_details(tea1)"
   ]
  },
  {
   "cell_type": "code",
   "execution_count": 145,
   "metadata": {},
   "outputs": [
    {
     "name": "stdout",
     "output_type": "stream",
     "text": [
      "user_id: 1, name:saiteja\n"
     ]
    }
   ],
   "source": [
    "show_details(user1)"
   ]
  },
  {
   "cell_type": "markdown",
   "metadata": {},
   "source": [
    "#### Section 5\n",
    "##### Encapsulation and Abstraction"
   ]
  },
  {
   "cell_type": "code",
   "execution_count": null,
   "metadata": {},
   "outputs": [],
   "source": [
    "Encapsulation\n",
    "Implement a class Payment with private attributes _card_number and _cvv. Add methods to:\n",
    "Set and get card details securely.\n",
    "Validate the CVV."
   ]
  },
  {
   "cell_type": "code",
   "execution_count": 146,
   "metadata": {},
   "outputs": [],
   "source": [
    "class payment:\n",
    "    def __init__(self,card_number, cvv):\n",
    "        try:\n",
    "            self._card_number = card_number\n",
    "            self._cvv = cvv\n",
    "        except Exception as e:\n",
    "            print(\"Exception occured,\",e)\n",
    "\n",
    "    @property\n",
    "    def card_number(self):\n",
    "        try:\n",
    "            return self._card_number\n",
    "        except Exception as e:\n",
    "            print(\"Exception occured,\",e)\n",
    "    \n",
    "    @property\n",
    "    def cvv(self):\n",
    "        try:\n",
    "            return self._cvv\n",
    "        except Exception as e:\n",
    "            print(\"Exception occured,\",e)\n",
    "    \n",
    "    @card_number.setter\n",
    "    def update_card_number(self, new_card_number):\n",
    "        try:\n",
    "            self._card_number = new_card_number\n",
    "        except Exception as e:\n",
    "            print(\"Exception occured,\",e)\n",
    "\n",
    "    @cvv.setter\n",
    "    def update_cvv(self, new_cvv):\n",
    "        try:\n",
    "            self._cvv = new_cvv\n",
    "        except Exception as e:\n",
    "            print(\"Exception occured,\",e)"
   ]
  },
  {
   "cell_type": "code",
   "execution_count": 147,
   "metadata": {},
   "outputs": [],
   "source": [
    "pay1 = payment(\"1234568\", \"123\")"
   ]
  },
  {
   "cell_type": "code",
   "execution_count": 148,
   "metadata": {},
   "outputs": [
    {
     "data": {
      "text/plain": [
       "'1234568'"
      ]
     },
     "execution_count": 148,
     "metadata": {},
     "output_type": "execute_result"
    }
   ],
   "source": [
    "pay1.card_number"
   ]
  },
  {
   "cell_type": "code",
   "execution_count": 149,
   "metadata": {},
   "outputs": [
    {
     "data": {
      "text/plain": [
       "'123'"
      ]
     },
     "execution_count": 149,
     "metadata": {},
     "output_type": "execute_result"
    }
   ],
   "source": [
    "pay1.cvv"
   ]
  },
  {
   "cell_type": "code",
   "execution_count": 150,
   "metadata": {},
   "outputs": [],
   "source": [
    "pay1.update_card_number = \"9876543\""
   ]
  },
  {
   "cell_type": "code",
   "execution_count": 151,
   "metadata": {},
   "outputs": [
    {
     "data": {
      "text/plain": [
       "'9876543'"
      ]
     },
     "execution_count": 151,
     "metadata": {},
     "output_type": "execute_result"
    }
   ],
   "source": [
    "pay1.card_number"
   ]
  },
  {
   "cell_type": "code",
   "execution_count": 152,
   "metadata": {},
   "outputs": [],
   "source": [
    "pay1.update_cvv = 345"
   ]
  },
  {
   "cell_type": "code",
   "execution_count": 153,
   "metadata": {},
   "outputs": [
    {
     "data": {
      "text/plain": [
       "345"
      ]
     },
     "execution_count": 153,
     "metadata": {},
     "output_type": "execute_result"
    }
   ],
   "source": [
    "pay1.cvv"
   ]
  },
  {
   "cell_type": "code",
   "execution_count": null,
   "metadata": {},
   "outputs": [],
   "source": [
    "Abstraction\n",
    "Define an abstract base class CourseContent with methods get_details() and get_duration(). Create two subclasses VideoCourse and Ebook to implement these methods."
   ]
  },
  {
   "cell_type": "code",
   "execution_count": 154,
   "metadata": {},
   "outputs": [],
   "source": [
    "from abc import ABC, abstractmethod\n",
    "\n",
    "class CourseContent(ABC):\n",
    "\n",
    "    @abstractmethod\n",
    "    def get_details(self):\n",
    "        pass\n",
    "\n",
    "    @abstractmethod\n",
    "    def get_duration(self):\n",
    "        pass"
   ]
  },
  {
   "cell_type": "code",
   "execution_count": 155,
   "metadata": {},
   "outputs": [],
   "source": [
    "class VideoCourse(CourseContent):\n",
    "    def get_details(self):\n",
    "        print(\"get details from VideoCourse class\")\n",
    "\n",
    "    def get_duration(self):\n",
    "        print(\"get duration function from VideoCourse class\")\n",
    "\n",
    "class Ebook(CourseContent):\n",
    "\n",
    "    def get_details(self):\n",
    "        print(\"get details function from Ebook class\")\n",
    "\n",
    "    def get_duration(self):\n",
    "        print(\"get duration function from Ebook class\")"
   ]
  },
  {
   "cell_type": "code",
   "execution_count": 156,
   "metadata": {},
   "outputs": [
    {
     "name": "stdout",
     "output_type": "stream",
     "text": [
      "get details from VideoCourse class\n"
     ]
    }
   ],
   "source": [
    "v1 = VideoCourse()\n",
    "v1.get_details()"
   ]
  },
  {
   "cell_type": "code",
   "execution_count": 157,
   "metadata": {},
   "outputs": [
    {
     "name": "stdout",
     "output_type": "stream",
     "text": [
      "get details function from Ebook class\n"
     ]
    }
   ],
   "source": [
    "e1 = Ebook()\n",
    "\n",
    "e1.get_details()"
   ]
  },
  {
   "cell_type": "markdown",
   "metadata": {},
   "source": [
    "#### Section 6\n",
    "##### Advanced OOP Concepts"
   ]
  },
  {
   "cell_type": "code",
   "execution_count": null,
   "metadata": {},
   "outputs": [],
   "source": [
    "Magic Methods\n",
    "Overloading Magic Methods\n",
    "Create a class CartItem with attributes name, price, and quantity. Overload:\n",
    "__str__ to return a string representation of the item.\n",
    "__add__ to allow addition of two CartItem objects, combining their quantities."
   ]
  },
  {
   "cell_type": "code",
   "execution_count": 158,
   "metadata": {},
   "outputs": [],
   "source": [
    "class CartItem:\n",
    "    def __init__(self, name, price, quantity):\n",
    "        try:\n",
    "            self.name = name\n",
    "            self.price = price\n",
    "            self.quantity = quantity\n",
    "        except Exception as e:\n",
    "            print(\"Exception occured,\",e)\n",
    "    \n",
    "    def __str__(self):\n",
    "        try:\n",
    "            return f\"name: {self.name}, price: {self.price}, quantity: {self.quantity}\"\n",
    "        except Exception as e:\n",
    "            print(\"Exception occured,\",e)\n",
    "    \n",
    "    def __add__(obj1, obj2):\n",
    "        try:\n",
    "            return obj1.quantity + obj2.quantity\n",
    "        except Exception as e:\n",
    "            print(\"Exception occured,\",e)"
   ]
  },
  {
   "cell_type": "code",
   "execution_count": 159,
   "metadata": {},
   "outputs": [],
   "source": [
    "c1 = CartItem(\"mobile\", \"20K\", 2)\n",
    "c2 = CartItem(\"laptop\", \"50K\", 1)"
   ]
  },
  {
   "cell_type": "code",
   "execution_count": 160,
   "metadata": {},
   "outputs": [
    {
     "data": {
      "text/plain": [
       "2"
      ]
     },
     "execution_count": 160,
     "metadata": {},
     "output_type": "execute_result"
    }
   ],
   "source": [
    "c1.quantity"
   ]
  },
  {
   "cell_type": "code",
   "execution_count": 161,
   "metadata": {},
   "outputs": [
    {
     "data": {
      "text/plain": [
       "1"
      ]
     },
     "execution_count": 161,
     "metadata": {},
     "output_type": "execute_result"
    }
   ],
   "source": [
    "c2.quantity"
   ]
  },
  {
   "cell_type": "code",
   "execution_count": 162,
   "metadata": {},
   "outputs": [
    {
     "name": "stdout",
     "output_type": "stream",
     "text": [
      "3\n"
     ]
    }
   ],
   "source": [
    "total = c1 + c2\n",
    "print(total)"
   ]
  },
  {
   "cell_type": "code",
   "execution_count": null,
   "metadata": {},
   "outputs": [],
   "source": [
    "Abstract Base Classes\n",
    "Using Abstract Base Classes\n",
    "Create an abstract base class SubscriptionPlan with methods get_price() and get_duration(). Implement two subclasses MonthlyPlan and YearlyPlan with appropriate logic."
   ]
  },
  {
   "cell_type": "code",
   "execution_count": 163,
   "metadata": {},
   "outputs": [],
   "source": [
    "from abc import ABC, abstractmethod\n",
    "class SubscriptionPlan(ABC):\n",
    "    def get_price(self):\n",
    "        pass\n",
    "\n",
    "    def get_duration(self):\n",
    "        pass"
   ]
  },
  {
   "cell_type": "code",
   "execution_count": 164,
   "metadata": {},
   "outputs": [],
   "source": [
    "class MonthlyPlan(SubscriptionPlan):\n",
    "    def get_price(self):\n",
    "        print(\"monthly plan costs you 200 rupees\")\n",
    "\n",
    "    def get_duration(self):\n",
    "        print(\"duration is for 1 month\")\n",
    "\n",
    "class YearlyPlan(SubscriptionPlan):\n",
    "    def get_price(self):\n",
    "        print(\"Yearly plan costs you 2000 rupees\")\n",
    "\n",
    "    def get_duration(self):\n",
    "        print(\"duration is for 1 year\")"
   ]
  },
  {
   "cell_type": "code",
   "execution_count": 165,
   "metadata": {},
   "outputs": [
    {
     "name": "stdout",
     "output_type": "stream",
     "text": [
      "monthly plan costs you 200 rupees\n",
      "duration is for 1 month\n"
     ]
    }
   ],
   "source": [
    "m1 = MonthlyPlan()\n",
    "m1.get_price()\n",
    "m1.get_duration()"
   ]
  },
  {
   "cell_type": "code",
   "execution_count": 166,
   "metadata": {},
   "outputs": [
    {
     "name": "stdout",
     "output_type": "stream",
     "text": [
      "Yearly plan costs you 2000 rupees\n",
      "duration is for 1 year\n"
     ]
    }
   ],
   "source": [
    "y1 = YearlyPlan()\n",
    "y1.get_price()\n",
    "y1.get_duration()"
   ]
  },
  {
   "cell_type": "code",
   "execution_count": null,
   "metadata": {},
   "outputs": [],
   "source": [
    "Property Decorators\n",
    "Using Property Decorators\n",
    "Create a class Subscription with attributes _plan and _price. Use:\n",
    "@property to access _plan and _price.\n",
    "@setter to set _plan and update _price based on the plan."
   ]
  },
  {
   "cell_type": "code",
   "execution_count": 167,
   "metadata": {},
   "outputs": [],
   "source": [
    "class Subscription:\n",
    "    def __init__(self, plan, price):\n",
    "        try:\n",
    "            self._plan = plan\n",
    "            self._price = price\n",
    "        except Exception as e:\n",
    "            print(\"Exception occured,\",e)\n",
    "\n",
    "    @property\n",
    "    def plan(self):\n",
    "        try:\n",
    "            return self._plan\n",
    "        except Exception as e:\n",
    "            print(\"Exception occured,\",e)\n",
    "    \n",
    "    @property\n",
    "    def price(self):\n",
    "        try:\n",
    "            return self._price\n",
    "        except Exception as e:\n",
    "            print(\"Exception occured,\",e)\n",
    "    \n",
    "    @plan.setter\n",
    "    def update_plan(self, new_plan):\n",
    "        try:\n",
    "            self._plan = new_plan\n",
    "            self.update_price = 2000\n",
    "        except Exception as e:\n",
    "            print(\"Exception occured,\",e)\n",
    "\n",
    "    @price.setter\n",
    "    def update_price(self, new_price):\n",
    "        try:\n",
    "            self._price = new_price\n",
    "        except Exception as e:\n",
    "            print(\"Exception occured,\",e)"
   ]
  },
  {
   "cell_type": "code",
   "execution_count": 168,
   "metadata": {},
   "outputs": [],
   "source": [
    "s1 = Subscription(\"free\", 0)"
   ]
  },
  {
   "cell_type": "code",
   "execution_count": 169,
   "metadata": {},
   "outputs": [
    {
     "data": {
      "text/plain": [
       "'free'"
      ]
     },
     "execution_count": 169,
     "metadata": {},
     "output_type": "execute_result"
    }
   ],
   "source": [
    "s1.plan"
   ]
  },
  {
   "cell_type": "code",
   "execution_count": 170,
   "metadata": {},
   "outputs": [
    {
     "data": {
      "text/plain": [
       "0"
      ]
     },
     "execution_count": 170,
     "metadata": {},
     "output_type": "execute_result"
    }
   ],
   "source": [
    "s1.price"
   ]
  },
  {
   "cell_type": "code",
   "execution_count": 171,
   "metadata": {},
   "outputs": [],
   "source": [
    "s1.update_plan = \"full access\""
   ]
  },
  {
   "cell_type": "code",
   "execution_count": 172,
   "metadata": {},
   "outputs": [
    {
     "data": {
      "text/plain": [
       "'full access'"
      ]
     },
     "execution_count": 172,
     "metadata": {},
     "output_type": "execute_result"
    }
   ],
   "source": [
    "s1.plan"
   ]
  },
  {
   "cell_type": "code",
   "execution_count": 173,
   "metadata": {},
   "outputs": [
    {
     "data": {
      "text/plain": [
       "2000"
      ]
     },
     "execution_count": 173,
     "metadata": {},
     "output_type": "execute_result"
    }
   ],
   "source": [
    "s1.price"
   ]
  },
  {
   "cell_type": "markdown",
   "metadata": {},
   "source": [
    "#### Section 7: \n",
    "##### Iterators and Generators"
   ]
  },
  {
   "cell_type": "code",
   "execution_count": null,
   "metadata": {},
   "outputs": [],
   "source": [
    "Creating Iterators\n",
    "Custom Iterators\n",
    "Implement an iterator class CourseIterator that takes a list of courses and iterates over them one by one.\n"
   ]
  },
  {
   "cell_type": "code",
   "execution_count": 182,
   "metadata": {},
   "outputs": [],
   "source": [
    "class CourseIterator:\n",
    "    def __init__(self, course_list):\n",
    "        try:\n",
    "            self.course_list = course_list\n",
    "            self.index = 0\n",
    "        except Exception as e:\n",
    "            print(\"Exception occured,\",e)\n",
    "\n",
    "    def __iter__(self):\n",
    "        try:\n",
    "            return self\n",
    "        except Exception as e:\n",
    "            print(\"Exception occured,\",e)\n",
    "    \n",
    "    def __next__(self):\n",
    "        if self.index < len(self.course_list):\n",
    "            try:\n",
    "                course = self.course_list[self.index]\n",
    "                self.index = self.index + 1\n",
    "                return course\n",
    "            except Exception as e:\n",
    "                print(\"Exception occured,\",e)\n",
    "        else:\n",
    "            raise StopIteration"
   ]
  },
  {
   "cell_type": "code",
   "execution_count": 183,
   "metadata": {},
   "outputs": [],
   "source": [
    "c1 = CourseIterator([\"python\", \"Datascience\", \"big data\", \"Aws\"])"
   ]
  },
  {
   "cell_type": "code",
   "execution_count": 184,
   "metadata": {},
   "outputs": [
    {
     "data": {
      "text/plain": [
       "__main__.CourseIterator"
      ]
     },
     "execution_count": 184,
     "metadata": {},
     "output_type": "execute_result"
    }
   ],
   "source": [
    "type(c1)"
   ]
  },
  {
   "cell_type": "code",
   "execution_count": 185,
   "metadata": {},
   "outputs": [
    {
     "name": "stdout",
     "output_type": "stream",
     "text": [
      "python\n",
      "Datascience\n",
      "big data\n",
      "Aws\n"
     ]
    }
   ],
   "source": [
    "for i in c1:\n",
    "    print(i)"
   ]
  },
  {
   "cell_type": "code",
   "execution_count": null,
   "metadata": {},
   "outputs": [],
   "source": [
    "Generators and Using yield\n",
    "Using Generators\n",
    "Write a generator function fibonacci_sequence(n) to yield the Fibonacci sequence up to n terms. Test it using a loop.\n"
   ]
  },
  {
   "cell_type": "code",
   "execution_count": 186,
   "metadata": {},
   "outputs": [],
   "source": [
    "def fibonacci_sequence(n):\n",
    "    try:\n",
    "        num1 = 0\n",
    "        num2 = 1\n",
    "        yield num1\n",
    "        yield num2\n",
    "        n = n-2\n",
    "        while n > 0:\n",
    "            yield num1 + num2\n",
    "            num1, num2 = num2, num1+num2\n",
    "            n = n - 1\n",
    "    except Exception as e:\n",
    "        print(\"Exception occured,\",e)"
   ]
  },
  {
   "cell_type": "code",
   "execution_count": 187,
   "metadata": {},
   "outputs": [
    {
     "data": {
      "text/plain": [
       "<generator object fibonacci_sequence at 0x0000029F11F58130>"
      ]
     },
     "execution_count": 187,
     "metadata": {},
     "output_type": "execute_result"
    }
   ],
   "source": [
    "fibonacci_sequence(4)"
   ]
  },
  {
   "cell_type": "code",
   "execution_count": 188,
   "metadata": {},
   "outputs": [
    {
     "name": "stdout",
     "output_type": "stream",
     "text": [
      "0\n",
      "1\n",
      "1\n",
      "2\n",
      "3\n",
      "5\n",
      "8\n",
      "13\n",
      "21\n",
      "34\n"
     ]
    }
   ],
   "source": [
    "for i in fibonacci_sequence(10):\n",
    "    print(i)"
   ]
  },
  {
   "cell_type": "code",
   "execution_count": null,
   "metadata": {},
   "outputs": [],
   "source": [
    "Lazy Evaluation\n",
    "Lazy Evaluation Example\n",
    "Implement a generator function read_large_file(file_path) to read a large file lazily, one line at a time. Use this function to count the number of lines in the file."
   ]
  },
  {
   "cell_type": "code",
   "execution_count": 189,
   "metadata": {},
   "outputs": [],
   "source": [
    "def read_large_file(file_path):\n",
    "    try:\n",
    "        with open(file_path, \"r\") as f:\n",
    "            for line in f:\n",
    "                yield line\n",
    "    except Exception as e:\n",
    "        print(\"Exception occured,\",e)\n",
    "\n",
    "def count_lines(file_path):\n",
    "    try:\n",
    "        line_count = 0\n",
    "        for line in read_large_file(file_path):\n",
    "            line_count = line_count + 1\n",
    "        return line_count\n",
    "    except Exception as e:\n",
    "        print(\"Exception occured,\",e)\n"
   ]
  },
  {
   "cell_type": "code",
   "execution_count": 190,
   "metadata": {},
   "outputs": [
    {
     "name": "stdout",
     "output_type": "stream",
     "text": [
      "Number of lines: 3\n"
     ]
    }
   ],
   "source": [
    "file_path = '../files_class/test.txt'\n",
    "print(f\"Number of lines: {count_lines(file_path)}\")"
   ]
  }
 ],
 "metadata": {
  "kernelspec": {
   "display_name": "Python 3",
   "language": "python",
   "name": "python3"
  },
  "language_info": {
   "codemirror_mode": {
    "name": "ipython",
    "version": 3
   },
   "file_extension": ".py",
   "mimetype": "text/x-python",
   "name": "python",
   "nbconvert_exporter": "python",
   "pygments_lexer": "ipython3",
   "version": "3.12.8"
  }
 },
 "nbformat": 4,
 "nbformat_minor": 2
}
