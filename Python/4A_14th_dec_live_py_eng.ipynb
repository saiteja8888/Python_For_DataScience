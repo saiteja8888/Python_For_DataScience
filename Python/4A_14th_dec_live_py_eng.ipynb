{
 "cells": [
  {
   "cell_type": "code",
   "execution_count": null,
   "metadata": {},
   "outputs": [],
   "source": [
    "Basic Problems\n",
    "Write a program to check if a number is positive, negative, or zero.\n",
    "Write a program to determine if a given year is a leap year.\n",
    "Create a program that checks if a number is even or odd.\n",
    "Write a program to determine if a given character is a vowel or a consonant.\n",
    "Write a program to check if a person is eligible to vote based on their age.\n",
    "Write a program to find the largest of three numbers entered by the user.\n",
    "Write a program to check if a given number is divisible by 5 and 11.\n",
    "Write a program to categorize a person’s BMI into underweight, normal weight, overweight, or obese.\n",
    "Write a program to determine the type of triangle based on the lengths of its sides (equilateral, isosceles, or scalene).\n",
    "Write a program to determine if a character entered by the user is uppercase, lowercase, or a digit.\n",
    "\n",
    "\n",
    "\n",
    "Intermediate Problems\n",
    "Write a program to calculate the grade of a student based on their marks using multiple elif conditions.\n",
    "Write a program to simulate a traffic light system (red, yellow, green).\n",
    "Write a program to calculate the electricity bill based on slab rates for different units.\n",
    "Create a program to determine if a given string starts with a vowel or not.\n",
    "Write a program to calculate the income tax for a user based on their income slab.\n",
    "Write a program that checks if a given number is prime or not using conditional statements.\n",
    "Write a program to determine if a number is a palindrome or not.\n",
    "Write a program to display the menu of a coffee shop and take the user’s order based on input.\n",
    "Write a program to check whether a person is eligible for a senior citizen discount based on their age.\n",
    "Write a program to categorize a person’s weight based on the following conditions:\n",
    "Underweight: BMI < 18.5\n",
    "Normal weight: 18.5 ≤ BMI < 24.9\n",
    "Overweight: 25 ≤ BMI < 29.9\n",
    "Obese: BMI ≥ 30\n",
    "\n",
    "\n",
    "\n",
    "\n",
    "Advanced Problems\n",
    "Write a program to determine if a number is a strong number (sum of factorials of its digits equals the number itself).\n",
    "Write a program to simulate a basic ATM system, allowing the user to check balance, deposit, or withdraw money.\n",
    "Write a program to categorize the season based on the input month (e.g., winter, summer, monsoon).\n",
    "Write a program to calculate a discount based on the purchase amount:\n",
    "Above ₹5000: 20% discount\n",
    "₹3000-₹5000: 15% discount\n",
    "₹1000-₹3000: 10% discount\n",
    "Below ₹1000: 5% discount\n",
    "Write a program to classify a number as positive, negative, or zero, and further as even or odd if it is non-zero.\n",
    "Write a program to validate a password:\n",
    "Minimum 8 characters\n",
    "Contains at least one uppercase letter, one lowercase letter, one digit, and one special character.\n",
    "Write a program to determine the day of the week based on an input number (1 for Monday, 7 for Sunday).\n",
    "Write a program to implement a grading system for employees based on their performance rating.\n",
    "Write a program to check whether a given number is part of the Fibonacci sequence or not.\n",
    "Write a program to determine the zodiac sign of a person based on their birthdate.\n",
    "\n",
    "sudhanshu@euron.one"
   ]
  },
  {
   "cell_type": "markdown",
   "metadata": {},
   "source": [
    "#### Basic Problems"
   ]
  },
  {
   "cell_type": "code",
   "execution_count": 11,
   "metadata": {},
   "outputs": [
    {
     "name": "stdout",
     "output_type": "stream",
     "text": [
      "Please enter a whole number\n",
      "Please enter a whole number\n",
      "Entered number is 100\n",
      "The given number is positive\n"
     ]
    }
   ],
   "source": [
    "# Write a program to check if a number is positive, negative, or zero.\n",
    "\n",
    "try:\n",
    "    number = None\n",
    "    while int != type(number):\n",
    "        try:\n",
    "            number = int(input())\n",
    "            print(\"Entered number is\", number)\n",
    "        except:\n",
    "            print(\"Please enter a whole number\")\n",
    "\n",
    "    if number > 0:\n",
    "        print(\"The given number is positive\")\n",
    "    elif number < 0:\n",
    "        print(\"The given number is negative\")\n",
    "    else:\n",
    "        print(\"The given number is zero\")\n",
    "\n",
    "except Exception as e:\n",
    "    print(e)"
   ]
  },
  {
   "cell_type": "code",
   "execution_count": 12,
   "metadata": {},
   "outputs": [
    {
     "name": "stdout",
     "output_type": "stream",
     "text": [
      "Please enter a whole year\n",
      "Entered year is 400\n",
      "The given year is a leap year\n"
     ]
    }
   ],
   "source": [
    "# Write a program to determine if a given year is a leap year.\n",
    "\n",
    "try:\n",
    "    year = None\n",
    "    while int != type(year):\n",
    "        try:\n",
    "            year = int(input())\n",
    "            print(\"Entered year is\", year)\n",
    "        except:\n",
    "            print(\"Please enter a whole year\")\n",
    "\n",
    "    if year%100 == 0:\n",
    "        if year%400 ==0:\n",
    "            print(\"The given year is a leap year\")\n",
    "        else:\n",
    "            print('The given year is not a leap year')\n",
    "    else:\n",
    "        if year%4 == 0:\n",
    "            print(\"The given year is a leap year\")\n",
    "        else:\n",
    "            print(\"The given year is not a leap year\")\n",
    "\n",
    "except Exception as e:\n",
    "    print(\"Exception occured,\",e)"
   ]
  },
  {
   "cell_type": "code",
   "execution_count": 13,
   "metadata": {},
   "outputs": [
    {
     "name": "stdout",
     "output_type": "stream",
     "text": [
      "Entered number is 5\n",
      "The entered number is an odd number\n"
     ]
    }
   ],
   "source": [
    "# Create a program that checks if a number is even or odd.\n",
    "\n",
    "try:\n",
    "    number = None\n",
    "    while int != type(number):\n",
    "        try:\n",
    "            number = int(input())\n",
    "            print(\"Entered number is\", number)\n",
    "        except:\n",
    "            print(\"Please enter a whole number\")\n",
    "\n",
    "    if number%2 == 0:\n",
    "        print(\"The entered number is a even number\")\n",
    "    else:\n",
    "        print(\"The entered number is an odd number\")\n",
    "\n",
    "except Exception as e:\n",
    "    print(\"Exception occured,\",e)"
   ]
  },
  {
   "cell_type": "code",
   "execution_count": 14,
   "metadata": {},
   "outputs": [
    {
     "name": "stdout",
     "output_type": "stream",
     "text": [
      "Entered char is e\n",
      "Entered char is a vowel\n"
     ]
    }
   ],
   "source": [
    "# Write a program to determine if a given character is a vowel or a consonant.\n",
    "\n",
    "try:\n",
    "    vowel = \"aeiou\"\n",
    "\n",
    "    char = \"None\"\n",
    "    while str == type(char) and len(char) != 1:\n",
    "        char = input()\n",
    "        print(\"Entered char is\", char)\n",
    "\n",
    "    if char in vowel:\n",
    "        print(\"Entered char is a vowel\")\n",
    "    else:\n",
    "        print(\"Entered char is a consonant\")\n",
    "\n",
    "except Exception as e:\n",
    "    print(\"Exception occured,\",e)\n",
    "\n"
   ]
  },
  {
   "cell_type": "code",
   "execution_count": 15,
   "metadata": {},
   "outputs": [
    {
     "name": "stdout",
     "output_type": "stream",
     "text": [
      "Please enter a valid age\n",
      "Entered age is 24\n",
      "This person is eligible to vote\n"
     ]
    }
   ],
   "source": [
    "# Write a program to check if a person is eligible to vote based on their age.\n",
    "\n",
    "try:\n",
    "    age = None\n",
    "    while int != type(age):\n",
    "        try:\n",
    "            age = int(input())\n",
    "            print(\"Entered age is\", age)\n",
    "        except:\n",
    "            print(\"Please enter a valid age\")\n",
    "\n",
    "    if age >= 18:\n",
    "        print(\"This person is eligible to vote\")\n",
    "    else:\n",
    "        print(\"This person is not eligible to vote\")\n",
    "\n",
    "except Exception as e:\n",
    "    print(\"Exception occured,\",e)"
   ]
  },
  {
   "cell_type": "code",
   "execution_count": 16,
   "metadata": {},
   "outputs": [
    {
     "name": "stdout",
     "output_type": "stream",
     "text": [
      "Entered numbers are 1 2 None\n",
      "Please enter a whole number\n",
      "Entered numbers are 1 2 3\n",
      "3 is greater\n"
     ]
    }
   ],
   "source": [
    "# Write a program to find the largest of three numbers entered by the user.\n",
    "\n",
    "a,b,c = None, None, None\n",
    "while a == None or b == None or c == None:\n",
    "    try:\n",
    "        a = int(input())\n",
    "        b = int(input())\n",
    "        c = int(input())\n",
    "        print(\"Entered numbers are\", a, b, c)\n",
    "    except:\n",
    "        print(\"Entered numbers are\", a, b, c)\n",
    "        print(\"Please enter a whole number\")\n",
    "\n",
    "if a > b and a > c:\n",
    "    print(a,\"is greater\")\n",
    "elif b > a and b > c:\n",
    "    print(b, \"is greater\")\n",
    "else:\n",
    "    print(c, \"is greater\")"
   ]
  },
  {
   "cell_type": "code",
   "execution_count": 17,
   "metadata": {},
   "outputs": [
    {
     "name": "stdout",
     "output_type": "stream",
     "text": [
      "Entered number is 55\n",
      "the given number is divisible by both 5 and 11\n"
     ]
    }
   ],
   "source": [
    "# Write a program to check if a given number is divisible by 5 and 11.\n",
    "\n",
    "number = None\n",
    "while int != type(number):\n",
    "    try:\n",
    "        number = int(input())\n",
    "        print(\"Entered number is\", number)\n",
    "    except:\n",
    "        print(\"Please enter a whole number\")\n",
    "\n",
    "if number % 5 == 0 and number % 11 == 0:\n",
    "    print(\"the given number is divisible by both 5 and 11\")\n",
    "else:\n",
    "    print(\"The given number is not divisible by both 5 and 11\")"
   ]
  },
  {
   "cell_type": "code",
   "execution_count": 18,
   "metadata": {},
   "outputs": [
    {
     "name": "stdout",
     "output_type": "stream",
     "text": [
      "Entered number is 30.0\n",
      "The person is obese and requires immediate attention\n"
     ]
    }
   ],
   "source": [
    "# Write a program to categorize a person’s BMI into underweight, normal weight, overweight, or obese.\n",
    "\n",
    "while True:\n",
    "    try:\n",
    "        bmi = input()\n",
    "        bmi = float(bmi)\n",
    "        print(\"Entered number is\", bmi)\n",
    "        break\n",
    "    except:\n",
    "        print(\"Entered number is\", bmi)\n",
    "        print(\"Please enter a float number\")\n",
    "\n",
    "if bmi < 18.5:\n",
    "    print(\"The person is underweight and regurires some weight trainging\")\n",
    "elif bmi < 25:\n",
    "    print(\"The person is normal weight\")\n",
    "elif bmi < 30:\n",
    "    print(\"The person is overweight and requires some weight loss\")\n",
    "else:\n",
    "    print(\"The person is obese and requires immediate attention\")"
   ]
  },
  {
   "cell_type": "code",
   "execution_count": 19,
   "metadata": {},
   "outputs": [
    {
     "name": "stdout",
     "output_type": "stream",
     "text": [
      "Entered angles are 20 30 130\n",
      "scalene triangle\n"
     ]
    }
   ],
   "source": [
    "# Write a program to determine the type of triangle based on the lengths of its sides (equilateral, isosceles, or scalene).\n",
    "\n",
    "while True:\n",
    "    try:\n",
    "        angle1 = input()\n",
    "        angle2 = input()\n",
    "        angle3 = input()\n",
    "\n",
    "        angle1 = int(angle1)\n",
    "        angle2 = int(angle2)\n",
    "        angle3 = int(angle3)\n",
    "        \n",
    "        print(\"Entered angles are\", angle1, angle2, angle3)\n",
    "        break\n",
    "    except:\n",
    "        print(\"Entered angles are\", angle1, angle2, angle3)\n",
    "        print(\"Please enter the correct angles\")\n",
    "\n",
    "if angle1 + angle2 + angle3 == 180:\n",
    "    if angle1 == angle2 and angle2 == angle3:\n",
    "        print(\"equilateral triangle\")\n",
    "    elif angle1 == angle2 or angle2 == angle3:\n",
    "        print(\"isosceles triangle\")\n",
    "    else:\n",
    "        print(\"scalene triangle\")\n",
    "else:\n",
    "    print(\"unable to find the traingle, enter the correct angles\")"
   ]
  },
  {
   "cell_type": "code",
   "execution_count": 20,
   "metadata": {},
   "outputs": [
    {
     "name": "stdout",
     "output_type": "stream",
     "text": [
      "12345\n",
      "Entered char is digit\n"
     ]
    }
   ],
   "source": [
    "# Write a program to determine if a character entered by the user is uppercase, lowercase, or a digit.\n",
    "\n",
    "try:\n",
    "    char = input()\n",
    "    print(char)\n",
    "except Exception as e:\n",
    "    print(\"Exception occured,\",e)\n",
    "\n",
    "upper_flag = char.isupper()\n",
    "lower_flag = char.islower()\n",
    "digit_flag = char.isdigit()\n",
    "\n",
    "if upper_flag:\n",
    "    print(\"Entered char is upper case\")\n",
    "elif lower_flag:\n",
    "    print(\"Entered char is lower case\")\n",
    "elif digit_flag:\n",
    "    print(\"Entered char is digit\")\n",
    "else:\n",
    "    print(\"unable to identify\")"
   ]
  },
  {
   "cell_type": "markdown",
   "metadata": {},
   "source": [
    "#### Intermediate Problems"
   ]
  },
  {
   "cell_type": "code",
   "execution_count": 21,
   "metadata": {},
   "outputs": [
    {
     "name": "stdout",
     "output_type": "stream",
     "text": [
      "Entered grade is 5.0\n",
      "You have failed, please try again\n"
     ]
    }
   ],
   "source": [
    "# Write a program to calculate the grade of a student based on their marks using multiple elif conditions.\n",
    "\n",
    "while True:\n",
    "    try:\n",
    "        grade = input(\"Enter the grade\")\n",
    "        grade = float(grade)\n",
    "        print(\"Entered grade is\", grade)\n",
    "        break\n",
    "    except:\n",
    "        print(\"Entered grade is\", grade)\n",
    "        print(\"Please enter the correct grade\")\n",
    "\n",
    "if grade == 10:\n",
    "    print(\"you grade is A+\")\n",
    "elif grade >= 9:\n",
    "    print(\"your grade is A\")\n",
    "elif grade >=8:\n",
    "    print(\"your grade is B+\")\n",
    "elif grade >=7:\n",
    "    print(\"your grade is B\")\n",
    "elif grade >=6:\n",
    "    print(\"your grade is C\")\n",
    "elif grade >=5:\n",
    "    print(\"You have failed, please try again\")"
   ]
  },
  {
   "cell_type": "code",
   "execution_count": 22,
   "metadata": {},
   "outputs": [
    {
     "name": "stdout",
     "output_type": "stream",
     "text": [
      "you can go\n"
     ]
    }
   ],
   "source": [
    "# Write a program to simulate a traffic light system (red, yellow, green).\n",
    "\n",
    "try:\n",
    "    colour = input(\"Enter the colour\")\n",
    "\n",
    "    match colour:\n",
    "        case \"red\":\n",
    "            print(\"stop\")\n",
    "        case \"yellow\":\n",
    "            print(\"get ready\")\n",
    "        case \"green\":\n",
    "            print(\"you can go\")\n",
    "        case _:\n",
    "            print(\"incorrect colour, stop\")\n",
    "except Exception as e:\n",
    "    print(\"Exception occured,\",e)"
   ]
  },
  {
   "cell_type": "code",
   "execution_count": 23,
   "metadata": {},
   "outputs": [
    {
     "name": "stdout",
     "output_type": "stream",
     "text": [
      "Entered units is 200\n",
      "electricity consumed is 900.0\n"
     ]
    }
   ],
   "source": [
    "# Write a program to calculate the electricity bill based on slab rates for different units.\n",
    "\n",
    "while True:\n",
    "    try:\n",
    "        units = input(\"Enter the units consumed\")\n",
    "        units = int(units)\n",
    "        print(\"Entered units is\", units)\n",
    "        break\n",
    "    except:\n",
    "        print(\"Entered units is\", units)\n",
    "        print(\"Please enter a whole number\")\n",
    "\n",
    "if units <= 100:\n",
    "    print(\"electricity consumed is\", units * 3.5)\n",
    "elif units <= 200:\n",
    "    print(\"electricity consumed is\", units * 4.5)\n",
    "elif units <= 400:\n",
    "    print(\"electricity consumed is\", units * 5.5)\n",
    "else:\n",
    "    print(\"electricity consumed is\", units * 6.5)"
   ]
  },
  {
   "cell_type": "code",
   "execution_count": 24,
   "metadata": {},
   "outputs": [
    {
     "name": "stdout",
     "output_type": "stream",
     "text": [
      "euron\n",
      "The given word starts with vowel\n"
     ]
    }
   ],
   "source": [
    "# Create a program to determine if a given string starts with a vowel or not.\n",
    "\n",
    "try:\n",
    "    word = input(\"ENter a string\")\n",
    "    print(word)\n",
    "\n",
    "    if word[0] in \"aeiou\":\n",
    "        print(\"The given word starts with vowel\")\n",
    "    else:\n",
    "        print(\"The given word does not starts with vowel\")\n",
    "except Exception as e:\n",
    "    print(\"Exception occured,\",e)"
   ]
  },
  {
   "cell_type": "code",
   "execution_count": 25,
   "metadata": {},
   "outputs": [
    {
     "name": "stdout",
     "output_type": "stream",
     "text": [
      "Entered income is 2000000\n",
      "You need to pay  450000.0 for income tax department\n"
     ]
    }
   ],
   "source": [
    "# Write a program to calculate the income tax for a user based on their income slab.\n",
    "\n",
    "while True:\n",
    "    try:\n",
    "        income = input(\"Enter the annual income\")\n",
    "        income = int(income)\n",
    "        print(\"Entered income is\", income)\n",
    "        break\n",
    "    except:\n",
    "        print(\"Entered income is\", income)\n",
    "        print(\"Please enter a whole number\")\n",
    "\n",
    "basic_exemption = 500000\n",
    "if income <= 500000:\n",
    "    print(\"You no need to pay the tax\")\n",
    "elif income <= 750000:\n",
    "    income_tax = (income - basic_exemption)*0.1\n",
    "    print(\"You need to pay \", income_tax, \"for income tax department\")\n",
    "elif income <= 1000000:\n",
    "    income_tax = (income - basic_exemption)*0.2\n",
    "    print(\"You need to pay \", income_tax, \"for income tax department\")\n",
    "else:\n",
    "    income_tax = (income - basic_exemption)*0.3\n",
    "    print(\"You need to pay \", income_tax, \"for income tax department\")\n",
    "\n"
   ]
  },
  {
   "cell_type": "code",
   "execution_count": 26,
   "metadata": {},
   "outputs": [
    {
     "name": "stdout",
     "output_type": "stream",
     "text": [
      "Entered num is 13\n",
      "Entered number is a prime number\n"
     ]
    }
   ],
   "source": [
    "# Write a program that checks if a given number is prime or not using conditional statements.\n",
    "\n",
    "while True:\n",
    "    try:\n",
    "        num = input(\"Enter a number\")\n",
    "        num = int(num)\n",
    "        print(\"Entered num is\", num)\n",
    "        break\n",
    "    except:\n",
    "        print(\"Entered num is\", num)\n",
    "        print(\"Please enter a whole number\")\n",
    "\n",
    "div = round(num/2)\n",
    "\n",
    "while div > 1:\n",
    "    if num % div != 0:\n",
    "        div-=1\n",
    "    else:\n",
    "        print(\"Entered number is not a prime number\")\n",
    "        break\n",
    "else:\n",
    "    print(\"Entered number is a prime number\")"
   ]
  },
  {
   "cell_type": "code",
   "execution_count": 27,
   "metadata": {},
   "outputs": [
    {
     "name": "stdout",
     "output_type": "stream",
     "text": [
      "Entered num is 1234321\n",
      "Entered number is a palindrome\n"
     ]
    }
   ],
   "source": [
    "# Write a program to determine if a number is a palindrome or not.\n",
    "\n",
    "while True:\n",
    "    try:\n",
    "        num = input(\"Enter a number\")\n",
    "        num = int(num)\n",
    "        print(\"Entered num is\", num)\n",
    "        break\n",
    "    except:\n",
    "        print(\"Entered num is\", num)\n",
    "        print(\"Please enter a whole number\")\n",
    "\n",
    "if str(num) == str(num)[::-1]:\n",
    "    print(\"Entered number is a palindrome\")\n",
    "else:\n",
    "    print(\"Entered number is not a palindrome\")\n"
   ]
  },
  {
   "cell_type": "code",
   "execution_count": 31,
   "metadata": {},
   "outputs": [
    {
     "name": "stdout",
     "output_type": "stream",
     "text": [
      "['Strong coffee', 'light cofee', 'medium roast', 'dark roast']\n",
      "user's order is, ['Strong coffee', 'dark roast']\n"
     ]
    }
   ],
   "source": [
    "# Write a program to display the menu of a coffee shop and take the user’s order based on input.\n",
    "\n",
    "menu = [\"Strong coffee\", \"light cofee\", \"medium roast\", \"dark roast\"]\n",
    "\n",
    "try:\n",
    "    flag = input(\"1. Show the menu 2. order the coffee\")\n",
    "\n",
    "    while True:\n",
    "        match flag:\n",
    "            case \"1\":\n",
    "                print(menu)\n",
    "                flag = input(\"1. Show the menu 2. order the coffee\")\n",
    "            case \"2\":\n",
    "                order = input(\"input the order details\")\n",
    "                order = order.split(\",\")\n",
    "                print(\"user's order is,\",order )\n",
    "                break\n",
    "            case _:\n",
    "                flag = input(\"1. Show the menu 2. order the coffee\")\n",
    "except Exception as e:\n",
    "    print(\"Exception occured,\",e)"
   ]
  },
  {
   "cell_type": "code",
   "execution_count": 32,
   "metadata": {},
   "outputs": [
    {
     "name": "stdout",
     "output_type": "stream",
     "text": [
      "Entered age is 60\n",
      "person is eligible for senior citizen discount\n"
     ]
    }
   ],
   "source": [
    "# Write a program to check whether a person is eligible for a senior citizen discount based on their age.\n",
    "\n",
    "while True:\n",
    "    try:\n",
    "        age = input()\n",
    "        age = int(age)\n",
    "        print(\"Entered age is\", age)\n",
    "        break\n",
    "    except:\n",
    "        print(\"Entered age is\", age)\n",
    "        print(\"Please enter a whole number\")\n",
    "\n",
    "if age >= 60:\n",
    "    print(\"person is eligible for senior citizen discount\")\n",
    "else:\n",
    "    print(\"person is not eligible for senior citizen discount\")"
   ]
  },
  {
   "cell_type": "code",
   "execution_count": 33,
   "metadata": {},
   "outputs": [
    {
     "name": "stdout",
     "output_type": "stream",
     "text": [
      "Entered number is 18.5\n",
      "The person is normal weight\n"
     ]
    }
   ],
   "source": [
    "# Write a program to categorize a person’s weight based on the following conditions:\n",
    "# Underweight: BMI < 18.5\n",
    "# Normal weight: 18.5 ≤ BMI < 24.9\n",
    "# Overweight: 25 ≤ BMI < 29.9\n",
    "# Obese: BMI ≥ 30\n",
    "\n",
    "while True:\n",
    "    try:\n",
    "        bmi = input()\n",
    "        bmi = float(bmi)\n",
    "        print(\"Entered number is\", bmi)\n",
    "        break\n",
    "    except:\n",
    "        print(\"Entered number is\", bmi)\n",
    "        print(\"Please enter a float number\")\n",
    "\n",
    "if bmi < 18.5:\n",
    "    print(\"The person is underweight and regurires some weight trainging\")\n",
    "elif bmi < 24.9:\n",
    "    print(\"The person is normal weight\")\n",
    "elif bmi < 29.5:\n",
    "    print(\"The person is overweight and requires some weight loss\")\n",
    "else:\n",
    "    print(\"The person is obese and requires immediate attention\")"
   ]
  },
  {
   "cell_type": "markdown",
   "metadata": {},
   "source": [
    "#### Advanced Problems"
   ]
  },
  {
   "cell_type": "code",
   "execution_count": 50,
   "metadata": {},
   "outputs": [
    {
     "name": "stdout",
     "output_type": "stream",
     "text": [
      "Entered number is 145\n",
      "Entered number is a strong number\n"
     ]
    }
   ],
   "source": [
    "# Write a program to determine if a number is a strong number (sum of factorials of its digits equals the number itself).\n",
    "\n",
    "try:\n",
    "    num = int(input(\"Please enter a numeric value\"))\n",
    "    print(\"Entered number is\",num)\n",
    "\n",
    "    sum = 0\n",
    "    num_copy = num\n",
    "    while num > 0:\n",
    "        temp = num % 10\n",
    "        t1 = 1\n",
    "        for i in range(1,temp+1):\n",
    "            t1 = t1 * i\n",
    "        sum = sum + t1\n",
    "        num = num // 10\n",
    "    else:\n",
    "        if num_copy == sum:\n",
    "            print(\"Entered number is a strong number\")\n",
    "        else:\n",
    "            print(\"Entered number is not a strong number\")\n",
    "\n",
    "except Exception as e:\n",
    "    print(\"Exception occured,\",e)"
   ]
  },
  {
   "cell_type": "code",
   "execution_count": 34,
   "metadata": {},
   "outputs": [
    {
     "name": "stdout",
     "output_type": "stream",
     "text": [
      "your current balance is, 1000\n",
      "your deposit of 1000 is received. Now your total balance is 2000\n",
      "Your withdraw of 2000 is successfull. Now your total balance is 0\n"
     ]
    }
   ],
   "source": [
    "# Write a program to simulate a basic ATM system, allowing the user to check balance, deposit, or withdraw money.\n",
    "\n",
    "global balance\n",
    "balance = 1000\n",
    "\n",
    "def check_balance():\n",
    "    try:\n",
    "        global balance\n",
    "        return balance\n",
    "    except Exception as e:\n",
    "        print(\"Exception occured,\",e)\n",
    "\n",
    "def deposit_money(deposit_amount):\n",
    "    try:\n",
    "        global balance\n",
    "        balance +=deposit_amount\n",
    "        print(\"your deposit of\", deposit_amount,\"is received. Now your total balance is\", balance)\n",
    "    except Exception as e:\n",
    "        print(\"Exception occured,\",e)\n",
    "\n",
    "def withdraw_money(withdraw_amount):\n",
    "    try:\n",
    "        global balance\n",
    "        if withdraw_amount>balance:\n",
    "            print(\"you can only withdraw\",balance,\"rupees from your account. Please enter a valid amount.\")\n",
    "        else:\n",
    "            balance-=withdraw_amount\n",
    "            print(\"Your withdraw of\",withdraw_amount,\"is successfull. Now your total balance is\",balance)\n",
    "    except Exception as e:\n",
    "        print(\"Exception occured,\",e)\n",
    "\n",
    "a = check_balance()\n",
    "print(\"your current balance is,\",a)\n",
    "\n",
    "deposit_money(1000)\n",
    "withdraw_money(2000)"
   ]
  },
  {
   "cell_type": "code",
   "execution_count": 35,
   "metadata": {},
   "outputs": [
    {
     "name": "stdout",
     "output_type": "stream",
     "text": [
      "you can only withdraw 0 rupees from your account. Please enter a valid amount.\n"
     ]
    }
   ],
   "source": [
    "withdraw_money(2000)"
   ]
  },
  {
   "cell_type": "code",
   "execution_count": 36,
   "metadata": {},
   "outputs": [
    {
     "name": "stdout",
     "output_type": "stream",
     "text": [
      "entered month is january\n",
      "Season is winter\n"
     ]
    }
   ],
   "source": [
    "# Write a program to categorize the season based on the input month (e.g., winter, summer, monsoon).\n",
    "\n",
    "try:\n",
    "    month = input(\"Enter the month name\").lower()\n",
    "    print(\"entered month is\", month)\n",
    "\n",
    "    if month in (\"november\",\"january\",\"february\"):\n",
    "        print(\"Season is winter\")\n",
    "    elif month in (\"march\",\"april\",\"may\",\"june\"):\n",
    "        print(\"Season is summer\")\n",
    "    elif month in (\"july\",\"august\",\"september\",\"october\"):\n",
    "        print(\"season is monsoon\")\n",
    "    else:\n",
    "        print(\"please enter the correct name\")\n",
    "except Exception as e:\n",
    "    print(\"Exception occured,\",e)"
   ]
  },
  {
   "cell_type": "code",
   "execution_count": 37,
   "metadata": {},
   "outputs": [
    {
     "name": "stdout",
     "output_type": "stream",
     "text": [
      "discount for the current purchase of 1200 rupees is, 120.0 rupees\n"
     ]
    }
   ],
   "source": [
    "# Write a program to calculate a discount based on the purchase amount:\n",
    "# Above ₹5000: 20% discount\n",
    "# ₹3000-₹5000: 15% discount\n",
    "# ₹1000-₹3000: 10% discount\n",
    "# Below ₹1000: 5% discount\n",
    "\n",
    "try:\n",
    "    purchase_amount = int(input(\"Enter a number\"))\n",
    "\n",
    "    if purchase_amount > 5000:\n",
    "        discount = purchase_amount * (25/100)\n",
    "    elif purchase_amount >=3000:\n",
    "        discount = purchase_amount * (15/100)\n",
    "    elif purchase_amount >=1000:\n",
    "        discount = purchase_amount * (10/100)\n",
    "    elif purchase_amount < 1000:\n",
    "        discount = purchase_amount * (5/100)\n",
    "\n",
    "    print(\"discount for the current purchase of\", purchase_amount,\"rupees is,\",discount,\"rupees\")\n",
    "\n",
    "except Exception as e:\n",
    "    print(\"Exception occured,\",e)"
   ]
  },
  {
   "cell_type": "code",
   "execution_count": 38,
   "metadata": {},
   "outputs": [
    {
     "name": "stdout",
     "output_type": "stream",
     "text": [
      "99\n",
      "positive and odd\n"
     ]
    }
   ],
   "source": [
    "# Write a program to classify a number as positive, negative, or zero, and further as even or odd if it is non-zero.\n",
    "\n",
    "def pos_neg(number):\n",
    "    try:\n",
    "        if number > 0:\n",
    "            temp = even_odd(number)\n",
    "            return \"positive \"+\"and \"+temp\n",
    "        elif number < 0:\n",
    "            temp = even_odd(number)\n",
    "            return \"negative\"+\"and \"+temp\n",
    "        else:\n",
    "            return \"zero\"\n",
    "    except Exception as e:\n",
    "        print(\"Exception occured,\",e)\n",
    "    \n",
    "def even_odd(number):\n",
    "    try:\n",
    "        if number % 2 == 0:\n",
    "            return \"even\"\n",
    "        else:\n",
    "            return \"odd\"\n",
    "    except Exception as e:\n",
    "        print(\"Exception occured,\",e)\n",
    "try:\n",
    "    number = int(input(\"Enter a number\"))\n",
    "    print(number)\n",
    "    print(pos_neg(number))\n",
    "except Exception as e:\n",
    "    print(\"Exception occured,\",e)\n",
    "\n",
    "\n"
   ]
  },
  {
   "cell_type": "code",
   "execution_count": 39,
   "metadata": {},
   "outputs": [
    {
     "name": "stdout",
     "output_type": "stream",
     "text": [
      "Hello@123\n",
      "Excellet, you have entered a valid password!\n"
     ]
    }
   ],
   "source": [
    "# Write a program to validate a password:\n",
    "# Minimum 8 characters\n",
    "# Contains at least one uppercase letter, one lowercase letter, one digit, and one special character.\n",
    "\n",
    "try:\n",
    "    password = input(\"Enter the password\")\n",
    "    print(password)\n",
    "    dic={\"upper\":0,\"lower\":0,\"digit\":0,\"special\":0}\n",
    "    password_list = list(password)\n",
    "    for i in password_list:\n",
    "        if i.isupper() == True:\n",
    "            dic[\"upper\"]+=1\n",
    "        elif i.islower() == True:\n",
    "            dic[\"lower\"]+=1\n",
    "        elif i.isdigit() == True:\n",
    "            dic[\"digit\"]+=1\n",
    "        else:\n",
    "            dic[\"special\"]+=1\n",
    "    else:\n",
    "        if dic[\"upper\"] >= 1 and dic['lower'] >= 1 and dic['digit'] >= 1 and dic['special'] >= 1 and len(password_list) >=8:\n",
    "            print(\"Excellet, you have entered a valid password!\")\n",
    "        else:\n",
    "            print(\"You password is not strong, we recommend to enter a strong passowrd\")\n",
    "except Exception as e:\n",
    "    print(\"Exception occured,\",e)"
   ]
  },
  {
   "cell_type": "code",
   "execution_count": 40,
   "metadata": {},
   "outputs": [
    {
     "name": "stdout",
     "output_type": "stream",
     "text": [
      "The day_id you have entered is 7\n",
      "The associated day is Sunday\n"
     ]
    }
   ],
   "source": [
    "# Write a program to determine the day of the week based on an input number (1 for Monday, 7 for Sunday).\n",
    "\n",
    "def day_of_week(day_id):\n",
    "    try:\n",
    "        match day_id:\n",
    "            case 1:\n",
    "                print(\"The asociated day is Monday\")\n",
    "            case 2:\n",
    "                print(\"The associated day is Tuesday\")\n",
    "            case 3:\n",
    "                print(\"The associated day Wednessday\")\n",
    "            case 4:\n",
    "                print(\"The associated day is Thursday\")\n",
    "            case 5:\n",
    "                print(\"The associated day is Friday\")\n",
    "            case 6:\n",
    "                print(\"The associated day is Saturday\")\n",
    "            case 7:\n",
    "                print(\"The associated day is Sunday\")\n",
    "            case _:\n",
    "                print(\"Invaid input\")\n",
    "    except Exception as e:\n",
    "        print(\"Exception occured,\",e)\n",
    "\n",
    "try:\n",
    "    day_id = int(input())\n",
    "    print(\"The day_id you have entered is\",day_id)\n",
    "    day_of_week(day_id)\n",
    "except Exception as e:\n",
    "    print(\"Exception occured,\",e)\n"
   ]
  },
  {
   "cell_type": "code",
   "execution_count": 41,
   "metadata": {},
   "outputs": [
    {
     "name": "stdout",
     "output_type": "stream",
     "text": [
      "Entered input is 4\n",
      "grade for the given rating is Good\n"
     ]
    }
   ],
   "source": [
    "# Write a program to implement a grading system for employees based on their performance rating.\n",
    "\n",
    "def grading(rating):\n",
    "    try:\n",
    "        if rating == 5:\n",
    "            return \"Excellet\"\n",
    "        elif rating == 4:\n",
    "            return \"Good\"\n",
    "        elif rating == 3:\n",
    "            return \"Average\"\n",
    "        elif rating == 2:\n",
    "            return \"Poor\"\n",
    "        elif rating == 1:\n",
    "            return \"Worst\"\n",
    "        else:\n",
    "            return \"Invalid\"\n",
    "    except Exception as e:\n",
    "        print(\"Exception occured,\",e)\n",
    "\n",
    "try:    \n",
    "    rating = int(input(\"Enter the rating\"))\n",
    "    print(\"Entered input is\",rating)\n",
    "    grade = grading(rating)\n",
    "\n",
    "    print(\"grade for the given rating is\", grade)\n",
    "except Exception as e:\n",
    "    print(\"Exception occured,\",e)"
   ]
  },
  {
   "cell_type": "code",
   "execution_count": 42,
   "metadata": {},
   "outputs": [
    {
     "name": "stdout",
     "output_type": "stream",
     "text": [
      "8\n",
      "True\n",
      "The given number is part of the fibonacci series\n"
     ]
    }
   ],
   "source": [
    "# Write a program to check whether a given number is part of the Fibonacci sequence or not.\n",
    "\n",
    "def generate_fib_number(num1,num2):\n",
    "    try:\n",
    "        global number\n",
    "        flag = False\n",
    "        num3 = num1 + num2\n",
    "        if number > num3:\n",
    "            flag = generate_fib_number(num2,num3)\n",
    "        elif number == num3:\n",
    "            return True\n",
    "        else:\n",
    "            return False\n",
    "    except Exception as e:\n",
    "        print(\"Exception occured,\",e)\n",
    "    return flag\n",
    "\n",
    "try:\n",
    "    number = int(input(\"Enter a number\"))\n",
    "    print(number)\n",
    "    flag = generate_fib_number(0,1)\n",
    "    print(flag)\n",
    "\n",
    "    if flag == True:\n",
    "        print(\"The given number is part of the fibonacci series\")\n",
    "    else:\n",
    "        print(\"The given number is not part of the fibonacci series\")\n",
    "except Exception as e:\n",
    "        print(\"Exception occured,\",e)"
   ]
  },
  {
   "cell_type": "code",
   "execution_count": 45,
   "metadata": {},
   "outputs": [
    {
     "name": "stdout",
     "output_type": "stream",
     "text": [
      "6 6\n",
      "Your zodiac sign is: Gemini\n"
     ]
    }
   ],
   "source": [
    "# Write a program to determine the zodiac sign of a person based on their birthdate.\n",
    "\n",
    "def get_zodiac_sign(month, day):\n",
    "    try:\n",
    "        if (month == 3 and day >= 21) or (month == 4 and day <= 19):\n",
    "            return \"Aries\"\n",
    "        elif (month == 4 and day >= 20) or (month == 5 and day <= 20):\n",
    "            return \"Taurus\"\n",
    "        elif (month == 5 and day >= 21) or (month == 6 and day <= 20):\n",
    "            return \"Gemini\"\n",
    "        elif (month == 6 and day >= 21) or (month == 7 and day <= 22):\n",
    "            return \"Cancer\"\n",
    "        elif (month == 7 and day >= 23) or (month == 8 and day <= 22):\n",
    "            return \"Leo\"\n",
    "        elif (month == 8 and day >= 23) or (month == 9 and day <= 22):\n",
    "            return \"Virgo\"\n",
    "        elif (month == 9 and day >= 23) or (month == 10 and day <= 22):\n",
    "            return \"Libra\"\n",
    "        elif (month == 10 and day >= 23) or (month == 11 and day <= 21):\n",
    "            return \"Scorpio\"\n",
    "        elif (month == 11 and day >= 22) or (month == 12 and day <= 21):\n",
    "            return \"Sagittarius\"\n",
    "        elif (month == 12 and day >= 22) or (month == 1 and day <= 19):\n",
    "            return \"Capricorn\"\n",
    "        elif (month == 1 and day >= 20) or (month == 2 and day <= 18):\n",
    "            return \"Aquarius\"\n",
    "        else:\n",
    "            return \"Pisces\"\n",
    "    except Exception as e:\n",
    "        print(\"Exception occured,\",e)\n",
    "\n",
    "try:    \n",
    "    month = int(input(\"Enter your birth month (1-12): \"))\n",
    "    day = int(input(\"Enter your birth day (1-31): \"))\n",
    "\n",
    "    print(month, day)\n",
    "    zodiac_sign = get_zodiac_sign(month, day)\n",
    "\n",
    "    print(f\"Your zodiac sign is: {zodiac_sign}\")\n",
    "except Exception as e:\n",
    "        print(\"Exception occured,\",e)"
   ]
  }
 ],
 "metadata": {
  "kernelspec": {
   "display_name": "Python 3",
   "language": "python",
   "name": "python3"
  },
  "language_info": {
   "codemirror_mode": {
    "name": "ipython",
    "version": 3
   },
   "file_extension": ".py",
   "mimetype": "text/x-python",
   "name": "python",
   "nbconvert_exporter": "python",
   "pygments_lexer": "ipython3",
   "version": "3.12.8"
  }
 },
 "nbformat": 4,
 "nbformat_minor": 2
}
