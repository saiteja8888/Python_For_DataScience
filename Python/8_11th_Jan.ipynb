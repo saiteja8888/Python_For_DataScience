{
 "cells": [
  {
   "cell_type": "code",
   "execution_count": 1,
   "metadata": {},
   "outputs": [],
   "source": [
    "def euron_course(course,mentor,price):\n",
    "    print(course,mentor,price)"
   ]
  },
  {
   "cell_type": "code",
   "execution_count": 2,
   "metadata": {},
   "outputs": [
    {
     "ename": "SyntaxError",
     "evalue": "incomplete input (2704431868.py, line 1)",
     "output_type": "error",
     "traceback": [
      "\u001b[1;36m  Cell \u001b[1;32mIn[2], line 1\u001b[1;36m\u001b[0m\n\u001b[1;33m    class euron:\u001b[0m\n\u001b[1;37m                ^\u001b[0m\n\u001b[1;31mSyntaxError\u001b[0m\u001b[1;31m:\u001b[0m incomplete input\n"
     ]
    }
   ],
   "source": [
    "class euron:"
   ]
  },
  {
   "cell_type": "code",
   "execution_count": 3,
   "metadata": {},
   "outputs": [],
   "source": [
    "class euron:\n",
    "    pass"
   ]
  },
  {
   "cell_type": "code",
   "execution_count": 4,
   "metadata": {},
   "outputs": [
    {
     "data": {
      "text/plain": [
       "2000"
      ]
     },
     "execution_count": 4,
     "metadata": {},
     "output_type": "execute_result"
    }
   ],
   "source": [
    "class euron_course:\n",
    "    def __init__(self,course_name, course_mentor, course_price):\n",
    "        self.course_name = course_name \n",
    "        self.course_mentor = course_mentor\n",
    "        self.course_price = course_price\n",
    "\n",
    "e1 = euron_course(\"python\", \"sudhanshu\", 2000)\n",
    "e1.course_price"
   ]
  },
  {
   "cell_type": "code",
   "execution_count": 5,
   "metadata": {},
   "outputs": [
    {
     "data": {
      "text/plain": [
       "__main__.euron_course"
      ]
     },
     "execution_count": 5,
     "metadata": {},
     "output_type": "execute_result"
    }
   ],
   "source": [
    "type(e1)"
   ]
  },
  {
   "cell_type": "code",
   "execution_count": 7,
   "metadata": {},
   "outputs": [],
   "source": [
    "a = 2\n",
    "b = 56"
   ]
  },
  {
   "cell_type": "code",
   "execution_count": 8,
   "metadata": {},
   "outputs": [],
   "source": [
    "e2 = euron_course(\"data analysis\", \"imran\", 2000)"
   ]
  },
  {
   "cell_type": "code",
   "execution_count": 9,
   "metadata": {},
   "outputs": [
    {
     "data": {
      "text/plain": [
       "'data analysis'"
      ]
     },
     "execution_count": 9,
     "metadata": {},
     "output_type": "execute_result"
    }
   ],
   "source": [
    "e2.course_name"
   ]
  },
  {
   "cell_type": "code",
   "execution_count": 10,
   "metadata": {},
   "outputs": [],
   "source": [
    "class euron_course:\n",
    "    def __init__(self,course_name, course_mentor, course_price):\n",
    "        self.course_name = course_name \n",
    "        self.course_mentor = course_mentor\n",
    "        self.course_price = course_price\n",
    "\n",
    "    def display_course(self):\n",
    "        print(f\"Course Name: {self.course_name}, Course Mentor: {self.course_mentor}, course_price: {self.course_price}\")\n",
    "\n",
    "    def update_price(self, new_price):\n",
    "        self.course_price = new_price\n",
    "    \n",
    "    def enroll_student(self, student_name):\n",
    "        print(f\"{student_name} has enrolled in {self.course_name}\")"
   ]
  },
  {
   "cell_type": "code",
   "execution_count": 11,
   "metadata": {},
   "outputs": [],
   "source": [
    "pro_course1 = euron_course(\"python\", \"sudhanshu\", 2000)\n",
    "pro_course2 = euron_course(\"java\", \"sudhanshu\", 2000)\n",
    "pro_course3 = euron_course(\"big data\", \"sudhanshu\", 2000)"
   ]
  },
  {
   "cell_type": "code",
   "execution_count": 12,
   "metadata": {},
   "outputs": [
    {
     "data": {
      "text/plain": [
       "'sudhanshu'"
      ]
     },
     "execution_count": 12,
     "metadata": {},
     "output_type": "execute_result"
    }
   ],
   "source": [
    "pro_course1.course_mentor"
   ]
  },
  {
   "cell_type": "code",
   "execution_count": 13,
   "metadata": {},
   "outputs": [],
   "source": [
    "class euron_course:\n",
    "    def __init__(self,course_name, course_mentor, course_price):\n",
    "        self.course_name = course_name \n",
    "        self.course_mentor = course_mentor\n",
    "        self.__course_price = course_price\n",
    "\n",
    "\n",
    "    def display_course(self):\n",
    "        print(f\"Course Name: {self.course_name}, Course Mentor: {self.course_mentor}, course_price: {self.course_price}\")\n",
    "\n",
    "    def update_price(self, new_price):\n",
    "        self.course_price = new_price\n",
    "    \n",
    "    def enroll_student(self, student_name):\n",
    "        print(f\"{student_name} has enrolled in {self.course_name}\")"
   ]
  },
  {
   "cell_type": "code",
   "execution_count": 14,
   "metadata": {},
   "outputs": [],
   "source": [
    "pro_course3 = euron_course(\"big data\", \"sudhanshu\", 2000)"
   ]
  },
  {
   "cell_type": "code",
   "execution_count": 15,
   "metadata": {},
   "outputs": [
    {
     "data": {
      "text/plain": [
       "'sudhanshu'"
      ]
     },
     "execution_count": 15,
     "metadata": {},
     "output_type": "execute_result"
    }
   ],
   "source": [
    "pro_course3.course_mentor"
   ]
  },
  {
   "cell_type": "code",
   "execution_count": 16,
   "metadata": {},
   "outputs": [
    {
     "data": {
      "text/plain": [
       "'big data'"
      ]
     },
     "execution_count": 16,
     "metadata": {},
     "output_type": "execute_result"
    }
   ],
   "source": [
    "pro_course3.course_name"
   ]
  },
  {
   "cell_type": "code",
   "execution_count": 17,
   "metadata": {},
   "outputs": [
    {
     "ename": "AttributeError",
     "evalue": "'euron_course' object has no attribute 'course_price'",
     "output_type": "error",
     "traceback": [
      "\u001b[1;31m---------------------------------------------------------------------------\u001b[0m",
      "\u001b[1;31mAttributeError\u001b[0m                            Traceback (most recent call last)",
      "Cell \u001b[1;32mIn[17], line 1\u001b[0m\n\u001b[1;32m----> 1\u001b[0m \u001b[43mpro_course3\u001b[49m\u001b[38;5;241;43m.\u001b[39;49m\u001b[43mcourse_price\u001b[49m\n",
      "\u001b[1;31mAttributeError\u001b[0m: 'euron_course' object has no attribute 'course_price'"
     ]
    }
   ],
   "source": [
    "pro_course3.course_price"
   ]
  },
  {
   "cell_type": "code",
   "execution_count": 18,
   "metadata": {},
   "outputs": [
    {
     "ename": "AttributeError",
     "evalue": "'euron_course' object has no attribute '__course_price'",
     "output_type": "error",
     "traceback": [
      "\u001b[1;31m---------------------------------------------------------------------------\u001b[0m",
      "\u001b[1;31mAttributeError\u001b[0m                            Traceback (most recent call last)",
      "Cell \u001b[1;32mIn[18], line 1\u001b[0m\n\u001b[1;32m----> 1\u001b[0m \u001b[43mpro_course3\u001b[49m\u001b[38;5;241;43m.\u001b[39;49m\u001b[43m__course_price\u001b[49m\n",
      "\u001b[1;31mAttributeError\u001b[0m: 'euron_course' object has no attribute '__course_price'"
     ]
    }
   ],
   "source": [
    "pro_course3.__course_price"
   ]
  },
  {
   "cell_type": "code",
   "execution_count": 20,
   "metadata": {},
   "outputs": [
    {
     "data": {
      "text/plain": [
       "2000"
      ]
     },
     "execution_count": 20,
     "metadata": {},
     "output_type": "execute_result"
    }
   ],
   "source": [
    "pro_course3._euron_course__course_price"
   ]
  },
  {
   "cell_type": "code",
   "execution_count": 21,
   "metadata": {},
   "outputs": [],
   "source": [
    "class euron_course:\n",
    "    def __init__(self,course_name, course_mentor, course_price):\n",
    "        self.course_name = course_name \n",
    "        self.course_mentor = course_mentor\n",
    "        self.__course_price = course_price\n",
    "\n",
    "\n",
    "    def display_course(self):\n",
    "        print(f\"Course Name: {self.course_name}, Course Mentor: {self.course_mentor}, course_price: {self.course_price}\")\n",
    "\n",
    "    def update_price(self, new_price):\n",
    "        self.course_price = new_price\n",
    "    \n",
    "    def enroll_student(self, student_name):\n",
    "        print(f\"{student_name} has enrolled in {self.course_name}\")\n",
    "\n",
    "    def get_price(self):\n",
    "        return self.__course_price"
   ]
  },
  {
   "cell_type": "code",
   "execution_count": 22,
   "metadata": {},
   "outputs": [],
   "source": [
    "pro_course3 = euron_course(\"big data\", \"sudhanshu\", 2000)"
   ]
  },
  {
   "cell_type": "code",
   "execution_count": 23,
   "metadata": {},
   "outputs": [
    {
     "data": {
      "text/plain": [
       "2000"
      ]
     },
     "execution_count": 23,
     "metadata": {},
     "output_type": "execute_result"
    }
   ],
   "source": [
    "pro_course3.get_price()"
   ]
  },
  {
   "cell_type": "code",
   "execution_count": 27,
   "metadata": {},
   "outputs": [],
   "source": [
    "# Inheritence\n",
    "class euron:\n",
    "    def __init__(self, course_name, course_mentor, course_price):\n",
    "        self.course_name = course_name\n",
    "        self.course_mentor = course_mentor\n",
    "        self.course_price = course_price\n",
    "    def display_course(self):\n",
    "        print(f\"Course Name: {self.course_name}, Course Mentor: {self.course_mentor}, course_price: {self.course_price}\")\n",
    "\n",
    "class euron_course(euron):\n",
    "    def __init__(self, course_name, course_mentor, course_price, course_duration):\n",
    "        super().__init__(course_name, course_mentor, course_price)\n",
    "        self.course_duration = course_duration\n",
    "\n"
   ]
  },
  {
   "cell_type": "code",
   "execution_count": 30,
   "metadata": {},
   "outputs": [],
   "source": [
    "e1 = euron_course(\"python\", \"sudhanshu\", 234, 5)"
   ]
  },
  {
   "cell_type": "code",
   "execution_count": 31,
   "metadata": {},
   "outputs": [
    {
     "name": "stdout",
     "output_type": "stream",
     "text": [
      "Course Name: python, Course Mentor: sudhanshu, course_price: 234\n"
     ]
    }
   ],
   "source": [
    "e1.display_course()"
   ]
  },
  {
   "cell_type": "code",
   "execution_count": 32,
   "metadata": {},
   "outputs": [],
   "source": [
    "# pholymorphism\n",
    "\n",
    "class euronmentor:\n",
    "    def teach(self):\n",
    "        print(\"mentor teaching\")\n",
    "\n",
    "class python_mentor(euronmentor):\n",
    "    def teach(self):\n",
    "        print(\"mentor teaching python\")\n",
    "\n",
    "class java_mentor(euronmentor):\n",
    "    def teach(self):\n",
    "        print(\"mentor taking java classes\")"
   ]
  },
  {
   "cell_type": "code",
   "execution_count": null,
   "metadata": {},
   "outputs": [],
   "source": []
  }
 ],
 "metadata": {
  "kernelspec": {
   "display_name": "Python 3",
   "language": "python",
   "name": "python3"
  },
  "language_info": {
   "codemirror_mode": {
    "name": "ipython",
    "version": 3
   },
   "file_extension": ".py",
   "mimetype": "text/x-python",
   "name": "python",
   "nbconvert_exporter": "python",
   "pygments_lexer": "ipython3",
   "version": "3.12.8"
  }
 },
 "nbformat": 4,
 "nbformat_minor": 2
}
